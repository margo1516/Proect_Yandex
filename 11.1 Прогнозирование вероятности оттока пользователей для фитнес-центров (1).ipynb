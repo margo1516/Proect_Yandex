{
 "cells": [
  {
   "cell_type": "markdown",
   "metadata": {},
   "source": [
    "# Проект: Сеть фитнес-центров «Культурист-датасаентист» "
   ]
  },
  {
   "cell_type": "markdown",
   "metadata": {},
   "source": [
    "1. Загрузка данных \n",
    "2. Проведем исследовательский анализ данных (EDA)\n",
    "3. Построим модель прогнозирования оттока клиентов\n",
    "  3.1 Логистическая регрессия\n",
    "  3.2 Случайный лес\n",
    "4. Сделаю кластеризацию пользователей\n",
    "5. Вывод"
   ]
  },
  {
   "cell_type": "code",
   "execution_count": 1,
   "metadata": {},
   "outputs": [],
   "source": [
    "import pandas as pd\n",
    "import seaborn as sns\n",
    "import matplotlib.pyplot as plt\n",
    "import numpy as np\n",
    "\n",
    "from sklearn.model_selection import train_test_split\n",
    "from sklearn.linear_model import LogisticRegression\n",
    "from sklearn.ensemble import RandomForestClassifier\n",
    "from sklearn.preprocessing import StandardScaler\n",
    "from sklearn.metrics import accuracy_score, precision_score, recall_score, f1_score\n",
    "from scipy.cluster.hierarchy import dendrogram, linkage\n",
    "from sklearn.cluster import KMeans"
   ]
  },
  {
   "cell_type": "markdown",
   "metadata": {},
   "source": [
    "## Загрузка данных"
   ]
  },
  {
   "cell_type": "code",
   "execution_count": 2,
   "metadata": {},
   "outputs": [
    {
     "data": {
      "text/html": [
       "<div>\n",
       "<style scoped>\n",
       "    .dataframe tbody tr th:only-of-type {\n",
       "        vertical-align: middle;\n",
       "    }\n",
       "\n",
       "    .dataframe tbody tr th {\n",
       "        vertical-align: top;\n",
       "    }\n",
       "\n",
       "    .dataframe thead th {\n",
       "        text-align: right;\n",
       "    }\n",
       "</style>\n",
       "<table border=\"1\" class=\"dataframe\">\n",
       "  <thead>\n",
       "    <tr style=\"text-align: right;\">\n",
       "      <th></th>\n",
       "      <th>gender</th>\n",
       "      <th>Near_Location</th>\n",
       "      <th>Partner</th>\n",
       "      <th>Promo_friends</th>\n",
       "      <th>Phone</th>\n",
       "      <th>Contract_period</th>\n",
       "      <th>Group_visits</th>\n",
       "      <th>Age</th>\n",
       "      <th>Avg_additional_charges_total</th>\n",
       "      <th>Month_to_end_contract</th>\n",
       "      <th>Lifetime</th>\n",
       "      <th>Avg_class_frequency_total</th>\n",
       "      <th>Avg_class_frequency_current_month</th>\n",
       "      <th>Churn</th>\n",
       "    </tr>\n",
       "  </thead>\n",
       "  <tbody>\n",
       "    <tr>\n",
       "      <td>0</td>\n",
       "      <td>1</td>\n",
       "      <td>1</td>\n",
       "      <td>1</td>\n",
       "      <td>1</td>\n",
       "      <td>0</td>\n",
       "      <td>6</td>\n",
       "      <td>1</td>\n",
       "      <td>29</td>\n",
       "      <td>14.227470</td>\n",
       "      <td>5.0</td>\n",
       "      <td>3</td>\n",
       "      <td>0.020398</td>\n",
       "      <td>0.000000</td>\n",
       "      <td>0</td>\n",
       "    </tr>\n",
       "    <tr>\n",
       "      <td>1</td>\n",
       "      <td>0</td>\n",
       "      <td>1</td>\n",
       "      <td>0</td>\n",
       "      <td>0</td>\n",
       "      <td>1</td>\n",
       "      <td>12</td>\n",
       "      <td>1</td>\n",
       "      <td>31</td>\n",
       "      <td>113.202938</td>\n",
       "      <td>12.0</td>\n",
       "      <td>7</td>\n",
       "      <td>1.922936</td>\n",
       "      <td>1.910244</td>\n",
       "      <td>0</td>\n",
       "    </tr>\n",
       "    <tr>\n",
       "      <td>2</td>\n",
       "      <td>0</td>\n",
       "      <td>1</td>\n",
       "      <td>1</td>\n",
       "      <td>0</td>\n",
       "      <td>1</td>\n",
       "      <td>1</td>\n",
       "      <td>0</td>\n",
       "      <td>28</td>\n",
       "      <td>129.448479</td>\n",
       "      <td>1.0</td>\n",
       "      <td>2</td>\n",
       "      <td>1.859098</td>\n",
       "      <td>1.736502</td>\n",
       "      <td>0</td>\n",
       "    </tr>\n",
       "    <tr>\n",
       "      <td>3</td>\n",
       "      <td>0</td>\n",
       "      <td>1</td>\n",
       "      <td>1</td>\n",
       "      <td>1</td>\n",
       "      <td>1</td>\n",
       "      <td>12</td>\n",
       "      <td>1</td>\n",
       "      <td>33</td>\n",
       "      <td>62.669863</td>\n",
       "      <td>12.0</td>\n",
       "      <td>2</td>\n",
       "      <td>3.205633</td>\n",
       "      <td>3.357215</td>\n",
       "      <td>0</td>\n",
       "    </tr>\n",
       "    <tr>\n",
       "      <td>4</td>\n",
       "      <td>1</td>\n",
       "      <td>1</td>\n",
       "      <td>1</td>\n",
       "      <td>1</td>\n",
       "      <td>1</td>\n",
       "      <td>1</td>\n",
       "      <td>0</td>\n",
       "      <td>26</td>\n",
       "      <td>198.362265</td>\n",
       "      <td>1.0</td>\n",
       "      <td>3</td>\n",
       "      <td>1.113884</td>\n",
       "      <td>1.120078</td>\n",
       "      <td>0</td>\n",
       "    </tr>\n",
       "    <tr>\n",
       "      <td>...</td>\n",
       "      <td>...</td>\n",
       "      <td>...</td>\n",
       "      <td>...</td>\n",
       "      <td>...</td>\n",
       "      <td>...</td>\n",
       "      <td>...</td>\n",
       "      <td>...</td>\n",
       "      <td>...</td>\n",
       "      <td>...</td>\n",
       "      <td>...</td>\n",
       "      <td>...</td>\n",
       "      <td>...</td>\n",
       "      <td>...</td>\n",
       "      <td>...</td>\n",
       "    </tr>\n",
       "    <tr>\n",
       "      <td>3995</td>\n",
       "      <td>1</td>\n",
       "      <td>1</td>\n",
       "      <td>1</td>\n",
       "      <td>0</td>\n",
       "      <td>1</td>\n",
       "      <td>12</td>\n",
       "      <td>0</td>\n",
       "      <td>33</td>\n",
       "      <td>2.406023</td>\n",
       "      <td>12.0</td>\n",
       "      <td>8</td>\n",
       "      <td>2.284497</td>\n",
       "      <td>2.349070</td>\n",
       "      <td>0</td>\n",
       "    </tr>\n",
       "    <tr>\n",
       "      <td>3996</td>\n",
       "      <td>0</td>\n",
       "      <td>1</td>\n",
       "      <td>0</td>\n",
       "      <td>0</td>\n",
       "      <td>1</td>\n",
       "      <td>1</td>\n",
       "      <td>1</td>\n",
       "      <td>29</td>\n",
       "      <td>68.883764</td>\n",
       "      <td>1.0</td>\n",
       "      <td>1</td>\n",
       "      <td>1.277168</td>\n",
       "      <td>0.292859</td>\n",
       "      <td>1</td>\n",
       "    </tr>\n",
       "    <tr>\n",
       "      <td>3997</td>\n",
       "      <td>1</td>\n",
       "      <td>1</td>\n",
       "      <td>1</td>\n",
       "      <td>1</td>\n",
       "      <td>1</td>\n",
       "      <td>12</td>\n",
       "      <td>0</td>\n",
       "      <td>28</td>\n",
       "      <td>78.250542</td>\n",
       "      <td>11.0</td>\n",
       "      <td>2</td>\n",
       "      <td>2.786146</td>\n",
       "      <td>2.831439</td>\n",
       "      <td>0</td>\n",
       "    </tr>\n",
       "    <tr>\n",
       "      <td>3998</td>\n",
       "      <td>0</td>\n",
       "      <td>1</td>\n",
       "      <td>1</td>\n",
       "      <td>1</td>\n",
       "      <td>1</td>\n",
       "      <td>6</td>\n",
       "      <td>0</td>\n",
       "      <td>32</td>\n",
       "      <td>61.912657</td>\n",
       "      <td>5.0</td>\n",
       "      <td>3</td>\n",
       "      <td>1.630108</td>\n",
       "      <td>1.596237</td>\n",
       "      <td>0</td>\n",
       "    </tr>\n",
       "    <tr>\n",
       "      <td>3999</td>\n",
       "      <td>1</td>\n",
       "      <td>0</td>\n",
       "      <td>1</td>\n",
       "      <td>0</td>\n",
       "      <td>0</td>\n",
       "      <td>12</td>\n",
       "      <td>1</td>\n",
       "      <td>30</td>\n",
       "      <td>178.861814</td>\n",
       "      <td>12.0</td>\n",
       "      <td>1</td>\n",
       "      <td>1.101832</td>\n",
       "      <td>1.035270</td>\n",
       "      <td>0</td>\n",
       "    </tr>\n",
       "  </tbody>\n",
       "</table>\n",
       "<p>4000 rows × 14 columns</p>\n",
       "</div>"
      ],
      "text/plain": [
       "      gender  Near_Location  Partner  Promo_friends  Phone  Contract_period  \\\n",
       "0          1              1        1              1      0                6   \n",
       "1          0              1        0              0      1               12   \n",
       "2          0              1        1              0      1                1   \n",
       "3          0              1        1              1      1               12   \n",
       "4          1              1        1              1      1                1   \n",
       "...      ...            ...      ...            ...    ...              ...   \n",
       "3995       1              1        1              0      1               12   \n",
       "3996       0              1        0              0      1                1   \n",
       "3997       1              1        1              1      1               12   \n",
       "3998       0              1        1              1      1                6   \n",
       "3999       1              0        1              0      0               12   \n",
       "\n",
       "      Group_visits  Age  Avg_additional_charges_total  Month_to_end_contract  \\\n",
       "0                1   29                     14.227470                    5.0   \n",
       "1                1   31                    113.202938                   12.0   \n",
       "2                0   28                    129.448479                    1.0   \n",
       "3                1   33                     62.669863                   12.0   \n",
       "4                0   26                    198.362265                    1.0   \n",
       "...            ...  ...                           ...                    ...   \n",
       "3995             0   33                      2.406023                   12.0   \n",
       "3996             1   29                     68.883764                    1.0   \n",
       "3997             0   28                     78.250542                   11.0   \n",
       "3998             0   32                     61.912657                    5.0   \n",
       "3999             1   30                    178.861814                   12.0   \n",
       "\n",
       "      Lifetime  Avg_class_frequency_total  Avg_class_frequency_current_month  \\\n",
       "0            3                   0.020398                           0.000000   \n",
       "1            7                   1.922936                           1.910244   \n",
       "2            2                   1.859098                           1.736502   \n",
       "3            2                   3.205633                           3.357215   \n",
       "4            3                   1.113884                           1.120078   \n",
       "...        ...                        ...                                ...   \n",
       "3995         8                   2.284497                           2.349070   \n",
       "3996         1                   1.277168                           0.292859   \n",
       "3997         2                   2.786146                           2.831439   \n",
       "3998         3                   1.630108                           1.596237   \n",
       "3999         1                   1.101832                           1.035270   \n",
       "\n",
       "      Churn  \n",
       "0         0  \n",
       "1         0  \n",
       "2         0  \n",
       "3         0  \n",
       "4         0  \n",
       "...     ...  \n",
       "3995      0  \n",
       "3996      1  \n",
       "3997      0  \n",
       "3998      0  \n",
       "3999      0  \n",
       "\n",
       "[4000 rows x 14 columns]"
      ]
     },
     "execution_count": 2,
     "metadata": {},
     "output_type": "execute_result"
    }
   ],
   "source": [
    "# Загрузим дадафрейм\n",
    "df = pd.read_csv('/datasets/gym_churn.csv')\n",
    "df"
   ]
  },
  {
   "cell_type": "code",
   "execution_count": 3,
   "metadata": {},
   "outputs": [
    {
     "data": {
      "text/html": [
       "<div>\n",
       "<style scoped>\n",
       "    .dataframe tbody tr th:only-of-type {\n",
       "        vertical-align: middle;\n",
       "    }\n",
       "\n",
       "    .dataframe tbody tr th {\n",
       "        vertical-align: top;\n",
       "    }\n",
       "\n",
       "    .dataframe thead th {\n",
       "        text-align: right;\n",
       "    }\n",
       "</style>\n",
       "<table border=\"1\" class=\"dataframe\">\n",
       "  <thead>\n",
       "    <tr style=\"text-align: right;\">\n",
       "      <th></th>\n",
       "      <th>gender</th>\n",
       "      <th>Near_Location</th>\n",
       "      <th>Partner</th>\n",
       "      <th>Promo_friends</th>\n",
       "      <th>Phone</th>\n",
       "      <th>Contract_period</th>\n",
       "      <th>Group_visits</th>\n",
       "      <th>Age</th>\n",
       "      <th>Avg_additional_charges_total</th>\n",
       "      <th>Month_to_end_contract</th>\n",
       "      <th>Lifetime</th>\n",
       "      <th>Avg_class_frequency_total</th>\n",
       "      <th>Avg_class_frequency_current_month</th>\n",
       "      <th>Churn</th>\n",
       "    </tr>\n",
       "  </thead>\n",
       "  <tbody>\n",
       "    <tr>\n",
       "      <td>1326</td>\n",
       "      <td>1</td>\n",
       "      <td>1</td>\n",
       "      <td>1</td>\n",
       "      <td>1</td>\n",
       "      <td>1</td>\n",
       "      <td>12</td>\n",
       "      <td>1</td>\n",
       "      <td>30</td>\n",
       "      <td>341.768106</td>\n",
       "      <td>12.0</td>\n",
       "      <td>2</td>\n",
       "      <td>0.000000</td>\n",
       "      <td>0.000000</td>\n",
       "      <td>0</td>\n",
       "    </tr>\n",
       "    <tr>\n",
       "      <td>3482</td>\n",
       "      <td>0</td>\n",
       "      <td>1</td>\n",
       "      <td>0</td>\n",
       "      <td>0</td>\n",
       "      <td>1</td>\n",
       "      <td>1</td>\n",
       "      <td>0</td>\n",
       "      <td>27</td>\n",
       "      <td>104.740335</td>\n",
       "      <td>1.0</td>\n",
       "      <td>0</td>\n",
       "      <td>2.370923</td>\n",
       "      <td>1.381620</td>\n",
       "      <td>1</td>\n",
       "    </tr>\n",
       "    <tr>\n",
       "      <td>625</td>\n",
       "      <td>0</td>\n",
       "      <td>1</td>\n",
       "      <td>0</td>\n",
       "      <td>0</td>\n",
       "      <td>0</td>\n",
       "      <td>1</td>\n",
       "      <td>0</td>\n",
       "      <td>26</td>\n",
       "      <td>70.010144</td>\n",
       "      <td>1.0</td>\n",
       "      <td>9</td>\n",
       "      <td>3.171805</td>\n",
       "      <td>3.194608</td>\n",
       "      <td>0</td>\n",
       "    </tr>\n",
       "    <tr>\n",
       "      <td>3581</td>\n",
       "      <td>1</td>\n",
       "      <td>1</td>\n",
       "      <td>0</td>\n",
       "      <td>0</td>\n",
       "      <td>1</td>\n",
       "      <td>1</td>\n",
       "      <td>0</td>\n",
       "      <td>33</td>\n",
       "      <td>105.161186</td>\n",
       "      <td>1.0</td>\n",
       "      <td>1</td>\n",
       "      <td>0.528248</td>\n",
       "      <td>0.589343</td>\n",
       "      <td>0</td>\n",
       "    </tr>\n",
       "    <tr>\n",
       "      <td>447</td>\n",
       "      <td>1</td>\n",
       "      <td>1</td>\n",
       "      <td>0</td>\n",
       "      <td>0</td>\n",
       "      <td>1</td>\n",
       "      <td>12</td>\n",
       "      <td>0</td>\n",
       "      <td>29</td>\n",
       "      <td>53.833863</td>\n",
       "      <td>11.0</td>\n",
       "      <td>3</td>\n",
       "      <td>2.180725</td>\n",
       "      <td>2.335272</td>\n",
       "      <td>0</td>\n",
       "    </tr>\n",
       "    <tr>\n",
       "      <td>3230</td>\n",
       "      <td>0</td>\n",
       "      <td>1</td>\n",
       "      <td>1</td>\n",
       "      <td>1</td>\n",
       "      <td>1</td>\n",
       "      <td>12</td>\n",
       "      <td>1</td>\n",
       "      <td>31</td>\n",
       "      <td>268.097493</td>\n",
       "      <td>12.0</td>\n",
       "      <td>3</td>\n",
       "      <td>2.256586</td>\n",
       "      <td>2.303706</td>\n",
       "      <td>0</td>\n",
       "    </tr>\n",
       "    <tr>\n",
       "      <td>2417</td>\n",
       "      <td>1</td>\n",
       "      <td>1</td>\n",
       "      <td>0</td>\n",
       "      <td>0</td>\n",
       "      <td>1</td>\n",
       "      <td>6</td>\n",
       "      <td>1</td>\n",
       "      <td>30</td>\n",
       "      <td>203.405400</td>\n",
       "      <td>6.0</td>\n",
       "      <td>1</td>\n",
       "      <td>2.313525</td>\n",
       "      <td>2.325036</td>\n",
       "      <td>0</td>\n",
       "    </tr>\n",
       "    <tr>\n",
       "      <td>423</td>\n",
       "      <td>0</td>\n",
       "      <td>1</td>\n",
       "      <td>0</td>\n",
       "      <td>0</td>\n",
       "      <td>1</td>\n",
       "      <td>6</td>\n",
       "      <td>0</td>\n",
       "      <td>31</td>\n",
       "      <td>144.690532</td>\n",
       "      <td>5.0</td>\n",
       "      <td>5</td>\n",
       "      <td>1.669950</td>\n",
       "      <td>1.700592</td>\n",
       "      <td>0</td>\n",
       "    </tr>\n",
       "    <tr>\n",
       "      <td>283</td>\n",
       "      <td>1</td>\n",
       "      <td>0</td>\n",
       "      <td>0</td>\n",
       "      <td>0</td>\n",
       "      <td>1</td>\n",
       "      <td>1</td>\n",
       "      <td>0</td>\n",
       "      <td>30</td>\n",
       "      <td>300.329873</td>\n",
       "      <td>1.0</td>\n",
       "      <td>0</td>\n",
       "      <td>0.984062</td>\n",
       "      <td>0.909779</td>\n",
       "      <td>1</td>\n",
       "    </tr>\n",
       "    <tr>\n",
       "      <td>1262</td>\n",
       "      <td>1</td>\n",
       "      <td>1</td>\n",
       "      <td>1</td>\n",
       "      <td>0</td>\n",
       "      <td>1</td>\n",
       "      <td>1</td>\n",
       "      <td>0</td>\n",
       "      <td>27</td>\n",
       "      <td>60.013846</td>\n",
       "      <td>1.0</td>\n",
       "      <td>19</td>\n",
       "      <td>1.989381</td>\n",
       "      <td>1.915780</td>\n",
       "      <td>0</td>\n",
       "    </tr>\n",
       "  </tbody>\n",
       "</table>\n",
       "</div>"
      ],
      "text/plain": [
       "      gender  Near_Location  Partner  Promo_friends  Phone  Contract_period  \\\n",
       "1326       1              1        1              1      1               12   \n",
       "3482       0              1        0              0      1                1   \n",
       "625        0              1        0              0      0                1   \n",
       "3581       1              1        0              0      1                1   \n",
       "447        1              1        0              0      1               12   \n",
       "3230       0              1        1              1      1               12   \n",
       "2417       1              1        0              0      1                6   \n",
       "423        0              1        0              0      1                6   \n",
       "283        1              0        0              0      1                1   \n",
       "1262       1              1        1              0      1                1   \n",
       "\n",
       "      Group_visits  Age  Avg_additional_charges_total  Month_to_end_contract  \\\n",
       "1326             1   30                    341.768106                   12.0   \n",
       "3482             0   27                    104.740335                    1.0   \n",
       "625              0   26                     70.010144                    1.0   \n",
       "3581             0   33                    105.161186                    1.0   \n",
       "447              0   29                     53.833863                   11.0   \n",
       "3230             1   31                    268.097493                   12.0   \n",
       "2417             1   30                    203.405400                    6.0   \n",
       "423              0   31                    144.690532                    5.0   \n",
       "283              0   30                    300.329873                    1.0   \n",
       "1262             0   27                     60.013846                    1.0   \n",
       "\n",
       "      Lifetime  Avg_class_frequency_total  Avg_class_frequency_current_month  \\\n",
       "1326         2                   0.000000                           0.000000   \n",
       "3482         0                   2.370923                           1.381620   \n",
       "625          9                   3.171805                           3.194608   \n",
       "3581         1                   0.528248                           0.589343   \n",
       "447          3                   2.180725                           2.335272   \n",
       "3230         3                   2.256586                           2.303706   \n",
       "2417         1                   2.313525                           2.325036   \n",
       "423          5                   1.669950                           1.700592   \n",
       "283          0                   0.984062                           0.909779   \n",
       "1262        19                   1.989381                           1.915780   \n",
       "\n",
       "      Churn  \n",
       "1326      0  \n",
       "3482      1  \n",
       "625       0  \n",
       "3581      0  \n",
       "447       0  \n",
       "3230      0  \n",
       "2417      0  \n",
       "423       0  \n",
       "283       1  \n",
       "1262      0  "
      ]
     },
     "execution_count": 3,
     "metadata": {},
     "output_type": "execute_result"
    }
   ],
   "source": [
    "df.sample(10)"
   ]
  },
  {
   "cell_type": "code",
   "execution_count": 4,
   "metadata": {},
   "outputs": [
    {
     "name": "stdout",
     "output_type": "stream",
     "text": [
      "<class 'pandas.core.frame.DataFrame'>\n",
      "RangeIndex: 4000 entries, 0 to 3999\n",
      "Data columns (total 14 columns):\n",
      "gender                               4000 non-null int64\n",
      "Near_Location                        4000 non-null int64\n",
      "Partner                              4000 non-null int64\n",
      "Promo_friends                        4000 non-null int64\n",
      "Phone                                4000 non-null int64\n",
      "Contract_period                      4000 non-null int64\n",
      "Group_visits                         4000 non-null int64\n",
      "Age                                  4000 non-null int64\n",
      "Avg_additional_charges_total         4000 non-null float64\n",
      "Month_to_end_contract                4000 non-null float64\n",
      "Lifetime                             4000 non-null int64\n",
      "Avg_class_frequency_total            4000 non-null float64\n",
      "Avg_class_frequency_current_month    4000 non-null float64\n",
      "Churn                                4000 non-null int64\n",
      "dtypes: float64(4), int64(10)\n",
      "memory usage: 437.6 KB\n"
     ]
    }
   ],
   "source": [
    "# просмотрю информацию\n",
    "df.info()"
   ]
  },
  {
   "cell_type": "code",
   "execution_count": 5,
   "metadata": {},
   "outputs": [
    {
     "data": {
      "text/plain": [
       "['gender',\n",
       " 'Near_Location',\n",
       " 'Partner',\n",
       " 'Promo_friends',\n",
       " 'Phone',\n",
       " 'Contract_period',\n",
       " 'Group_visits',\n",
       " 'Age',\n",
       " 'Avg_additional_charges_total',\n",
       " 'Month_to_end_contract',\n",
       " 'Lifetime',\n",
       " 'Avg_class_frequency_total',\n",
       " 'Avg_class_frequency_current_month',\n",
       " 'Churn']"
      ]
     },
     "execution_count": 5,
     "metadata": {},
     "output_type": "execute_result"
    }
   ],
   "source": [
    "# рассмотрю на столбцы\n",
    "df.columns.tolist()"
   ]
  },
  {
   "cell_type": "code",
   "execution_count": 6,
   "metadata": {},
   "outputs": [],
   "source": [
    "# приведу к нижнему регистру \n",
    "df.columns = [i.lower() for i in df]"
   ]
  },
  {
   "cell_type": "code",
   "execution_count": 7,
   "metadata": {},
   "outputs": [
    {
     "data": {
      "text/plain": [
       "['gender',\n",
       " 'near_location',\n",
       " 'partner',\n",
       " 'promo_friends',\n",
       " 'phone',\n",
       " 'contract_period',\n",
       " 'group_visits',\n",
       " 'age',\n",
       " 'avg_additional_charges_total',\n",
       " 'month_to_end_contract',\n",
       " 'lifetime',\n",
       " 'avg_class_frequency_total',\n",
       " 'avg_class_frequency_current_month',\n",
       " 'churn']"
      ]
     },
     "execution_count": 7,
     "metadata": {},
     "output_type": "execute_result"
    }
   ],
   "source": [
    "# проверю столбцы\n",
    "df.columns.tolist()"
   ]
  },
  {
   "cell_type": "code",
   "execution_count": 8,
   "metadata": {},
   "outputs": [
    {
     "data": {
      "text/plain": [
       "gender                               0\n",
       "near_location                        0\n",
       "partner                              0\n",
       "promo_friends                        0\n",
       "phone                                0\n",
       "contract_period                      0\n",
       "group_visits                         0\n",
       "age                                  0\n",
       "avg_additional_charges_total         0\n",
       "month_to_end_contract                0\n",
       "lifetime                             0\n",
       "avg_class_frequency_total            0\n",
       "avg_class_frequency_current_month    0\n",
       "churn                                0\n",
       "dtype: int64"
      ]
     },
     "execution_count": 8,
     "metadata": {},
     "output_type": "execute_result"
    }
   ],
   "source": [
    "#посмотрим пропуски\n",
    "df.isna().sum()"
   ]
  },
  {
   "cell_type": "code",
   "execution_count": 9,
   "metadata": {},
   "outputs": [
    {
     "data": {
      "text/plain": [
       "0"
      ]
     },
     "execution_count": 9,
     "metadata": {},
     "output_type": "execute_result"
    }
   ],
   "source": [
    "# посмотрю дубликаты\n",
    "df.duplicated().sum()"
   ]
  },
  {
   "cell_type": "code",
   "execution_count": 10,
   "metadata": {},
   "outputs": [
    {
     "data": {
      "text/plain": [
       "(4000, 14)"
      ]
     },
     "execution_count": 10,
     "metadata": {},
     "output_type": "execute_result"
    }
   ],
   "source": [
    "# просмотрю сколько строк и колонок датафрейме\n",
    "df.shape"
   ]
  },
  {
   "cell_type": "markdown",
   "metadata": {},
   "source": [
    "# Вывод: \n",
    "пропусков дадафрайме нет, название столбцов привела в порядок, пропусков нет, дубликатов нет.\n",
    "датафрейме 4000 строк и 14 колонок "
   ]
  },
  {
   "cell_type": "markdown",
   "metadata": {},
   "source": [
    "## Проведем исследовательский анализ данных (EDA)"
   ]
  },
  {
   "cell_type": "code",
   "execution_count": 11,
   "metadata": {},
   "outputs": [
    {
     "data": {
      "text/html": [
       "<div>\n",
       "<style scoped>\n",
       "    .dataframe tbody tr th:only-of-type {\n",
       "        vertical-align: middle;\n",
       "    }\n",
       "\n",
       "    .dataframe tbody tr th {\n",
       "        vertical-align: top;\n",
       "    }\n",
       "\n",
       "    .dataframe thead th {\n",
       "        text-align: right;\n",
       "    }\n",
       "</style>\n",
       "<table border=\"1\" class=\"dataframe\">\n",
       "  <thead>\n",
       "    <tr style=\"text-align: right;\">\n",
       "      <th></th>\n",
       "      <th>gender</th>\n",
       "      <th>near_location</th>\n",
       "      <th>partner</th>\n",
       "      <th>promo_friends</th>\n",
       "      <th>phone</th>\n",
       "      <th>contract_period</th>\n",
       "      <th>group_visits</th>\n",
       "      <th>age</th>\n",
       "      <th>avg_additional_charges_total</th>\n",
       "      <th>month_to_end_contract</th>\n",
       "      <th>lifetime</th>\n",
       "      <th>avg_class_frequency_total</th>\n",
       "      <th>avg_class_frequency_current_month</th>\n",
       "      <th>churn</th>\n",
       "    </tr>\n",
       "  </thead>\n",
       "  <tbody>\n",
       "    <tr>\n",
       "      <td>count</td>\n",
       "      <td>4000.000000</td>\n",
       "      <td>4000.000000</td>\n",
       "      <td>4000.000000</td>\n",
       "      <td>4000.000000</td>\n",
       "      <td>4000.000000</td>\n",
       "      <td>4000.000000</td>\n",
       "      <td>4000.000000</td>\n",
       "      <td>4000.000000</td>\n",
       "      <td>4000.000000</td>\n",
       "      <td>4000.000000</td>\n",
       "      <td>4000.000000</td>\n",
       "      <td>4000.000000</td>\n",
       "      <td>4000.000000</td>\n",
       "      <td>4000.000000</td>\n",
       "    </tr>\n",
       "    <tr>\n",
       "      <td>mean</td>\n",
       "      <td>0.510250</td>\n",
       "      <td>0.845250</td>\n",
       "      <td>0.486750</td>\n",
       "      <td>0.308500</td>\n",
       "      <td>0.903500</td>\n",
       "      <td>4.681250</td>\n",
       "      <td>0.412250</td>\n",
       "      <td>29.184250</td>\n",
       "      <td>146.943728</td>\n",
       "      <td>4.322750</td>\n",
       "      <td>3.724750</td>\n",
       "      <td>1.879020</td>\n",
       "      <td>1.767052</td>\n",
       "      <td>0.265250</td>\n",
       "    </tr>\n",
       "    <tr>\n",
       "      <td>std</td>\n",
       "      <td>0.499957</td>\n",
       "      <td>0.361711</td>\n",
       "      <td>0.499887</td>\n",
       "      <td>0.461932</td>\n",
       "      <td>0.295313</td>\n",
       "      <td>4.549706</td>\n",
       "      <td>0.492301</td>\n",
       "      <td>3.258367</td>\n",
       "      <td>96.355602</td>\n",
       "      <td>4.191297</td>\n",
       "      <td>3.749267</td>\n",
       "      <td>0.972245</td>\n",
       "      <td>1.052906</td>\n",
       "      <td>0.441521</td>\n",
       "    </tr>\n",
       "    <tr>\n",
       "      <td>min</td>\n",
       "      <td>0.000000</td>\n",
       "      <td>0.000000</td>\n",
       "      <td>0.000000</td>\n",
       "      <td>0.000000</td>\n",
       "      <td>0.000000</td>\n",
       "      <td>1.000000</td>\n",
       "      <td>0.000000</td>\n",
       "      <td>18.000000</td>\n",
       "      <td>0.148205</td>\n",
       "      <td>1.000000</td>\n",
       "      <td>0.000000</td>\n",
       "      <td>0.000000</td>\n",
       "      <td>0.000000</td>\n",
       "      <td>0.000000</td>\n",
       "    </tr>\n",
       "    <tr>\n",
       "      <td>25%</td>\n",
       "      <td>0.000000</td>\n",
       "      <td>1.000000</td>\n",
       "      <td>0.000000</td>\n",
       "      <td>0.000000</td>\n",
       "      <td>1.000000</td>\n",
       "      <td>1.000000</td>\n",
       "      <td>0.000000</td>\n",
       "      <td>27.000000</td>\n",
       "      <td>68.868830</td>\n",
       "      <td>1.000000</td>\n",
       "      <td>1.000000</td>\n",
       "      <td>1.180875</td>\n",
       "      <td>0.963003</td>\n",
       "      <td>0.000000</td>\n",
       "    </tr>\n",
       "    <tr>\n",
       "      <td>50%</td>\n",
       "      <td>1.000000</td>\n",
       "      <td>1.000000</td>\n",
       "      <td>0.000000</td>\n",
       "      <td>0.000000</td>\n",
       "      <td>1.000000</td>\n",
       "      <td>1.000000</td>\n",
       "      <td>0.000000</td>\n",
       "      <td>29.000000</td>\n",
       "      <td>136.220159</td>\n",
       "      <td>1.000000</td>\n",
       "      <td>3.000000</td>\n",
       "      <td>1.832768</td>\n",
       "      <td>1.719574</td>\n",
       "      <td>0.000000</td>\n",
       "    </tr>\n",
       "    <tr>\n",
       "      <td>75%</td>\n",
       "      <td>1.000000</td>\n",
       "      <td>1.000000</td>\n",
       "      <td>1.000000</td>\n",
       "      <td>1.000000</td>\n",
       "      <td>1.000000</td>\n",
       "      <td>6.000000</td>\n",
       "      <td>1.000000</td>\n",
       "      <td>31.000000</td>\n",
       "      <td>210.949625</td>\n",
       "      <td>6.000000</td>\n",
       "      <td>5.000000</td>\n",
       "      <td>2.536078</td>\n",
       "      <td>2.510336</td>\n",
       "      <td>1.000000</td>\n",
       "    </tr>\n",
       "    <tr>\n",
       "      <td>max</td>\n",
       "      <td>1.000000</td>\n",
       "      <td>1.000000</td>\n",
       "      <td>1.000000</td>\n",
       "      <td>1.000000</td>\n",
       "      <td>1.000000</td>\n",
       "      <td>12.000000</td>\n",
       "      <td>1.000000</td>\n",
       "      <td>41.000000</td>\n",
       "      <td>552.590740</td>\n",
       "      <td>12.000000</td>\n",
       "      <td>31.000000</td>\n",
       "      <td>6.023668</td>\n",
       "      <td>6.146783</td>\n",
       "      <td>1.000000</td>\n",
       "    </tr>\n",
       "  </tbody>\n",
       "</table>\n",
       "</div>"
      ],
      "text/plain": [
       "            gender  near_location      partner  promo_friends        phone  \\\n",
       "count  4000.000000    4000.000000  4000.000000    4000.000000  4000.000000   \n",
       "mean      0.510250       0.845250     0.486750       0.308500     0.903500   \n",
       "std       0.499957       0.361711     0.499887       0.461932     0.295313   \n",
       "min       0.000000       0.000000     0.000000       0.000000     0.000000   \n",
       "25%       0.000000       1.000000     0.000000       0.000000     1.000000   \n",
       "50%       1.000000       1.000000     0.000000       0.000000     1.000000   \n",
       "75%       1.000000       1.000000     1.000000       1.000000     1.000000   \n",
       "max       1.000000       1.000000     1.000000       1.000000     1.000000   \n",
       "\n",
       "       contract_period  group_visits          age  \\\n",
       "count      4000.000000   4000.000000  4000.000000   \n",
       "mean          4.681250      0.412250    29.184250   \n",
       "std           4.549706      0.492301     3.258367   \n",
       "min           1.000000      0.000000    18.000000   \n",
       "25%           1.000000      0.000000    27.000000   \n",
       "50%           1.000000      0.000000    29.000000   \n",
       "75%           6.000000      1.000000    31.000000   \n",
       "max          12.000000      1.000000    41.000000   \n",
       "\n",
       "       avg_additional_charges_total  month_to_end_contract     lifetime  \\\n",
       "count                   4000.000000            4000.000000  4000.000000   \n",
       "mean                     146.943728               4.322750     3.724750   \n",
       "std                       96.355602               4.191297     3.749267   \n",
       "min                        0.148205               1.000000     0.000000   \n",
       "25%                       68.868830               1.000000     1.000000   \n",
       "50%                      136.220159               1.000000     3.000000   \n",
       "75%                      210.949625               6.000000     5.000000   \n",
       "max                      552.590740              12.000000    31.000000   \n",
       "\n",
       "       avg_class_frequency_total  avg_class_frequency_current_month  \\\n",
       "count                4000.000000                        4000.000000   \n",
       "mean                    1.879020                           1.767052   \n",
       "std                     0.972245                           1.052906   \n",
       "min                     0.000000                           0.000000   \n",
       "25%                     1.180875                           0.963003   \n",
       "50%                     1.832768                           1.719574   \n",
       "75%                     2.536078                           2.510336   \n",
       "max                     6.023668                           6.146783   \n",
       "\n",
       "             churn  \n",
       "count  4000.000000  \n",
       "mean      0.265250  \n",
       "std       0.441521  \n",
       "min       0.000000  \n",
       "25%       0.000000  \n",
       "50%       0.000000  \n",
       "75%       1.000000  \n",
       "max       1.000000  "
      ]
     },
     "execution_count": 11,
     "metadata": {},
     "output_type": "execute_result"
    }
   ],
   "source": [
    "# посмотрим на среднее и стандартное отклонение\n",
    "df.describe()"
   ]
  },
  {
   "cell_type": "markdown",
   "metadata": {},
   "source": [
    "в age видно что возраст мин 18 лет мак 41 год, а вот std 3,25 это скорей всего люди блиского возраста. "
   ]
  },
  {
   "cell_type": "code",
   "execution_count": 12,
   "metadata": {
    "scrolled": true
   },
   "outputs": [
    {
     "data": {
      "text/html": [
       "<div>\n",
       "<style scoped>\n",
       "    .dataframe tbody tr th:only-of-type {\n",
       "        vertical-align: middle;\n",
       "    }\n",
       "\n",
       "    .dataframe tbody tr th {\n",
       "        vertical-align: top;\n",
       "    }\n",
       "\n",
       "    .dataframe thead th {\n",
       "        text-align: right;\n",
       "    }\n",
       "</style>\n",
       "<table border=\"1\" class=\"dataframe\">\n",
       "  <thead>\n",
       "    <tr style=\"text-align: right;\">\n",
       "      <th></th>\n",
       "      <th>gender</th>\n",
       "      <th>near_location</th>\n",
       "      <th>partner</th>\n",
       "      <th>promo_friends</th>\n",
       "      <th>phone</th>\n",
       "      <th>contract_period</th>\n",
       "      <th>group_visits</th>\n",
       "      <th>age</th>\n",
       "      <th>avg_additional_charges_total</th>\n",
       "      <th>month_to_end_contract</th>\n",
       "      <th>lifetime</th>\n",
       "      <th>avg_class_frequency_total</th>\n",
       "      <th>avg_class_frequency_current_month</th>\n",
       "    </tr>\n",
       "    <tr>\n",
       "      <th>churn</th>\n",
       "      <th></th>\n",
       "      <th></th>\n",
       "      <th></th>\n",
       "      <th></th>\n",
       "      <th></th>\n",
       "      <th></th>\n",
       "      <th></th>\n",
       "      <th></th>\n",
       "      <th></th>\n",
       "      <th></th>\n",
       "      <th></th>\n",
       "      <th></th>\n",
       "      <th></th>\n",
       "    </tr>\n",
       "  </thead>\n",
       "  <tbody>\n",
       "    <tr>\n",
       "      <td>0</td>\n",
       "      <td>0.510037</td>\n",
       "      <td>0.873086</td>\n",
       "      <td>0.534195</td>\n",
       "      <td>0.353522</td>\n",
       "      <td>0.903709</td>\n",
       "      <td>5.747193</td>\n",
       "      <td>0.464103</td>\n",
       "      <td>29.976523</td>\n",
       "      <td>158.445715</td>\n",
       "      <td>5.283089</td>\n",
       "      <td>4.711807</td>\n",
       "      <td>2.024876</td>\n",
       "      <td>2.027882</td>\n",
       "    </tr>\n",
       "    <tr>\n",
       "      <td>1</td>\n",
       "      <td>0.510839</td>\n",
       "      <td>0.768143</td>\n",
       "      <td>0.355325</td>\n",
       "      <td>0.183789</td>\n",
       "      <td>0.902922</td>\n",
       "      <td>1.728558</td>\n",
       "      <td>0.268615</td>\n",
       "      <td>26.989632</td>\n",
       "      <td>115.082899</td>\n",
       "      <td>1.662582</td>\n",
       "      <td>0.990575</td>\n",
       "      <td>1.474995</td>\n",
       "      <td>1.044546</td>\n",
       "    </tr>\n",
       "  </tbody>\n",
       "</table>\n",
       "</div>"
      ],
      "text/plain": [
       "         gender  near_location   partner  promo_friends     phone  \\\n",
       "churn                                                               \n",
       "0      0.510037       0.873086  0.534195       0.353522  0.903709   \n",
       "1      0.510839       0.768143  0.355325       0.183789  0.902922   \n",
       "\n",
       "       contract_period  group_visits        age  avg_additional_charges_total  \\\n",
       "churn                                                                           \n",
       "0             5.747193      0.464103  29.976523                    158.445715   \n",
       "1             1.728558      0.268615  26.989632                    115.082899   \n",
       "\n",
       "       month_to_end_contract  lifetime  avg_class_frequency_total  \\\n",
       "churn                                                               \n",
       "0                   5.283089  4.711807                   2.024876   \n",
       "1                   1.662582  0.990575                   1.474995   \n",
       "\n",
       "       avg_class_frequency_current_month  \n",
       "churn                                     \n",
       "0                               2.027882  \n",
       "1                               1.044546  "
      ]
     },
     "execution_count": 12,
     "metadata": {},
     "output_type": "execute_result"
    }
   ],
   "source": [
    "# средние значения признаков в двух группах\n",
    "df.groupby('churn').agg('mean')"
   ]
  },
  {
   "cell_type": "code",
   "execution_count": 13,
   "metadata": {},
   "outputs": [
    {
     "name": "stdout",
     "output_type": "stream",
     "text": [
      "<class 'pandas.core.frame.DataFrame'>\n",
      "RangeIndex: 4000 entries, 0 to 3999\n",
      "Data columns (total 14 columns):\n",
      "gender                               4000 non-null int64\n",
      "near_location                        4000 non-null int64\n",
      "partner                              4000 non-null int64\n",
      "promo_friends                        4000 non-null int64\n",
      "phone                                4000 non-null int64\n",
      "contract_period                      4000 non-null int64\n",
      "group_visits                         4000 non-null int64\n",
      "age                                  4000 non-null int64\n",
      "avg_additional_charges_total         4000 non-null float64\n",
      "month_to_end_contract                4000 non-null float64\n",
      "lifetime                             4000 non-null int64\n",
      "avg_class_frequency_total            4000 non-null float64\n",
      "avg_class_frequency_current_month    4000 non-null float64\n",
      "churn                                4000 non-null int64\n",
      "dtypes: float64(4), int64(10)\n",
      "memory usage: 437.6 KB\n"
     ]
    }
   ],
   "source": [
    "df.info()"
   ]
  },
  {
   "cell_type": "code",
   "execution_count": 14,
   "metadata": {
    "scrolled": true
   },
   "outputs": [
    {
     "data": {
      "image/png": "[encoded data removed]",
      "text/plain": [
       "<Figure size 360x360 with 1 Axes>"
      ]
     },
     "metadata": {
      "needs_background": "light"
     },
     "output_type": "display_data"
    },
    {
     "data": {
      "image/png": "[encoded data removed]",
      "text/plain": [
       "<Figure size 360x360 with 1 Axes>"
      ]
     },
     "metadata": {
      "needs_background": "light"
     },
     "output_type": "display_data"
    },
    {
     "data": {
      "image/png": "[encoded data removed]",
      "text/plain": [
       "<Figure size 360x360 with 1 Axes>"
      ]
     },
     "metadata": {
      "needs_background": "light"
     },
     "output_type": "display_data"
    },
    {
     "data": {
      "image/png": "[encoded data removed]",
      "text/plain": [
       "<Figure size 360x360 with 1 Axes>"
      ]
     },
     "metadata": {
      "needs_background": "light"
     },
     "output_type": "display_data"
    },
    {
     "data": {
      "image/png": "[encoded data removed]",
      "text/plain": [
       "<Figure size 360x360 with 1 Axes>"
      ]
     },
     "metadata": {
      "needs_background": "light"
     },
     "output_type": "display_data"
    },
    {
     "data": {
      "image/png": "[encoded data removed]",
      "text/plain": [
       "<Figure size 360x360 with 1 Axes>"
      ]
     },
     "metadata": {
      "needs_background": "light"
     },
     "output_type": "display_data"
    },
    {
     "data": {
      "image/png": "[encoded data removed]",
      "text/plain": [
       "<Figure size 360x360 with 1 Axes>"
      ]
     },
     "metadata": {
      "needs_background": "light"
     },
     "output_type": "display_data"
    },
    {
     "data": {
      "image/png": "[encoded data removed]",
      "text/plain": [
       "<Figure size 360x360 with 1 Axes>"
      ]
     },
     "metadata": {
      "needs_background": "light"
     },
     "output_type": "display_data"
    },
    {
     "data": {
      "image/png": "[encoded data removed]",
      "text/plain": [
       "<Figure size 360x360 with 1 Axes>"
      ]
     },
     "metadata": {
      "needs_background": "light"
     },
     "output_type": "display_data"
    },
    {
     "data": {
      "image/png": "[encoded data removed]",
      "text/plain": [
       "<Figure size 360x360 with 1 Axes>"
      ]
     },
     "metadata": {
      "needs_background": "light"
     },
     "output_type": "display_data"
    },
    {
     "data": {
      "image/png": "[encoded data removed]",
      "text/plain": [
       "<Figure size 360x360 with 1 Axes>"
      ]
     },
     "metadata": {
      "needs_background": "light"
     },
     "output_type": "display_data"
    },
    {
     "data": {
      "image/png": "[encoded data removed]",
      "text/plain": [
       "<Figure size 360x360 with 1 Axes>"
      ]
     },
     "metadata": {
      "needs_background": "light"
     },
     "output_type": "display_data"
    },
    {
     "data": {
      "image/png": "[encoded data removed]",
      "text/plain": [
       "<Figure size 360x360 with 1 Axes>"
      ]
     },
     "metadata": {
      "needs_background": "light"
     },
     "output_type": "display_data"
    },
    {
     "data": {
      "image/png": "[encoded data removed]",
      "text/plain": [
       "<Figure size 360x360 with 1 Axes>"
      ]
     },
     "metadata": {
      "needs_background": "light"
     },
     "output_type": "display_data"
    }
   ],
   "source": [
    "for column in df.columns:\n",
    "    plt.figure(figsize=(5, 5))\n",
    "    df.groupby('churn')[column]\n",
    "    sns.distplot(df[column])\n",
    "    plt.title(column)\n",
    "    plt.show()"
   ]
  },
  {
   "cell_type": "code",
   "execution_count": 15,
   "metadata": {
    "scrolled": true
   },
   "outputs": [
    {
     "data": {
      "image/png": "[encoded data removed]",
      "text/plain": [
       "<Figure size 360x360 with 1 Axes>"
      ]
     },
     "metadata": {
      "needs_background": "light"
     },
     "output_type": "display_data"
    },
    {
     "data": {
      "image/png": "[encoded data removed]",
      "text/plain": [
       "<Figure size 360x360 with 1 Axes>"
      ]
     },
     "metadata": {
      "needs_background": "light"
     },
     "output_type": "display_data"
    },
    {
     "data": {
      "image/png": "[encoded data removed]",
      "text/plain": [
       "<Figure size 360x360 with 1 Axes>"
      ]
     },
     "metadata": {
      "needs_background": "light"
     },
     "output_type": "display_data"
    },
    {
     "data": {
      "image/png": "[encoded data removed]",
      "text/plain": [
       "<Figure size 360x360 with 1 Axes>"
      ]
     },
     "metadata": {
      "needs_background": "light"
     },
     "output_type": "display_data"
    },
    {
     "data": {
      "image/png": "[encoded data removed]",
      "text/plain": [
       "<Figure size 360x360 with 1 Axes>"
      ]
     },
     "metadata": {
      "needs_background": "light"
     },
     "output_type": "display_data"
    },
    {
     "data": {
      "image/png": "[encoded data removed]",
      "text/plain": [
       "<Figure size 360x360 with 1 Axes>"
      ]
     },
     "metadata": {
      "needs_background": "light"
     },
     "output_type": "display_data"
    },
    {
     "data": {
      "image/png": "[encoded data removed]",
      "text/plain": [
       "<Figure size 360x360 with 1 Axes>"
      ]
     },
     "metadata": {
      "needs_background": "light"
     },
     "output_type": "display_data"
    },
    {
     "data": {
      "image/png": "[encoded data removed]",
      "text/plain": [
       "<Figure size 360x360 with 1 Axes>"
      ]
     },
     "metadata": {
      "needs_background": "light"
     },
     "output_type": "display_data"
    },
    {
     "data": {
      "image/png": "[encoded data removed]",
      "text/plain": [
       "<Figure size 360x360 with 1 Axes>"
      ]
     },
     "metadata": {
      "needs_background": "light"
     },
     "output_type": "display_data"
    },
    {
     "data": {
      "image/png": "[encoded data removed]",
      "text/plain": [
       "<Figure size 360x360 with 1 Axes>"
      ]
     },
     "metadata": {
      "needs_background": "light"
     },
     "output_type": "display_data"
    },
    {
     "data": {
      "image/png": "[encoded data removed]",
      "text/plain": [
       "<Figure size 360x360 with 1 Axes>"
      ]
     },
     "metadata": {
      "needs_background": "light"
     },
     "output_type": "display_data"
    },
    {
     "data": {
      "image/png": "[encoded data removed]",
      "text/plain": [
       "<Figure size 360x360 with 1 Axes>"
      ]
     },
     "metadata": {
      "needs_background": "light"
     },
     "output_type": "display_data"
    },
    {
     "data": {
      "image/png": "[encoded data removed]",
      "text/plain": [
       "<Figure size 360x360 with 1 Axes>"
      ]
     },
     "metadata": {
      "needs_background": "light"
     },
     "output_type": "display_data"
    }
   ],
   "source": [
    "# построю boxplot\n",
    "for column in ['gender', 'near_location', 'partner', 'promo_friends', 'contract_period', 'phone', 'group_visits', 'age', 'avg_additional_charges_total', 'month_to_end_contract', 'lifetime', 'avg_class_frequency_total', 'avg_class_frequency_current_month']:\n",
    "    plt.figure(figsize=(5, 5))\n",
    "    sns.boxplot(x = 'churn', y = df[column], data = df)\n",
    "    plt.show()"
   ]
  },
  {
   "cell_type": "code",
   "execution_count": null,
   "metadata": {
    "scrolled": true
   },
   "outputs": [
    {
     "data": {
      "image/png": "[encoded data removed]",
      "text/plain": [
       "<Figure size 360x360 with 1 Axes>"
      ]
     },
     "metadata": {
      "needs_background": "light"
     },
     "output_type": "display_data"
    },
    {
     "data": {
      "image/png": "[encoded data removed]",
      "text/plain": [
       "<Figure size 360x360 with 1 Axes>"
      ]
     },
     "metadata": {
      "needs_background": "light"
     },
     "output_type": "display_data"
    },
    {
     "data": {
      "image/png": "[encoded data removed]",
      "text/plain": [
       "<Figure size 360x360 with 1 Axes>"
      ]
     },
     "metadata": {
      "needs_background": "light"
     },
     "output_type": "display_data"
    },
    {
     "data": {
      "image/png": "[encoded data removed]",
      "text/plain": [
       "<Figure size 360x360 with 1 Axes>"
      ]
     },
     "metadata": {
      "needs_background": "light"
     },
     "output_type": "display_data"
    },
    {
     "data": {
      "image/png": "[encoded data removed]",
      "text/plain": [
       "<Figure size 360x360 with 1 Axes>"
      ]
     },
     "metadata": {
      "needs_background": "light"
     },
     "output_type": "display_data"
    },
    {
     "data": {
      "image/png": "[encoded data removed]",
      "text/plain": [
       "<Figure size 360x360 with 1 Axes>"
      ]
     },
     "metadata": {
      "needs_background": "light"
     },
     "output_type": "display_data"
    },
    {
     "data": {
      "image/png": "[encoded data removed]",
      "text/plain": [
       "<Figure size 360x360 with 1 Axes>"
      ]
     },
     "metadata": {
      "needs_background": "light"
     },
     "output_type": "display_data"
    },
    {
     "data": {
      "image/png": "[encoded data removed]",
      "text/plain": [
       "<Figure size 360x360 with 1 Axes>"
      ]
     },
     "metadata": {
      "needs_background": "light"
     },
     "output_type": "display_data"
    }
   ],
   "source": [
    "# распределения\n",
    "for column in ['gender', 'near_location', 'partner', 'promo_friends', 'contract_period', 'phone', 'group_visits', 'age', 'avg_additional_charges_total', 'month_to_end_contract', 'lifetime', 'avg_class_frequency_total', 'avg_class_frequency_current_month']:\n",
    "    plt.figure(figsize=(5, 5))\n",
    "    sns.countplot(x = df[column], hue='churn', data=df)\n",
    "    plt.title(column)\n",
    "    plt.show()"
   ]
  },
  {
   "cell_type": "code",
   "execution_count": null,
   "metadata": {},
   "outputs": [],
   "source": [
    "# матрица корреляции\n",
    "cm = df.corr()\n",
    "plt.figure(figsize=(14, 10))\n",
    "sns.heatmap(cm, annot = True, fmt = '0.2f', linewidths=.5, cmap=\"PiYG\")\n",
    "plt.show()"
   ]
  },
  {
   "cell_type": "markdown",
   "metadata": {},
   "source": [
    "Есть мультиколлинеарные признаки:\n",
    "contract_period - month_to_end_contract\n",
    "avg_class_frequency_current_month - avg_class_frequency_total\n",
    "Есть признаки с нулевой корреляцией с целевой переменной:\n",
    "phone\n",
    "gender"
   ]
  },
  {
   "cell_type": "markdown",
   "metadata": {},
   "source": [
    "# 3. Построим модель прогнозирования оттока клиентов"
   ]
  },
  {
   "cell_type": "markdown",
   "metadata": {},
   "source": [
    "Постройте модель бинарной классификации клиентов"
   ]
  },
  {
   "cell_type": "markdown",
   "metadata": {},
   "source": [
    "# логистическая регрессия"
   ]
  },
  {
   "cell_type": "code",
   "execution_count": null,
   "metadata": {},
   "outputs": [],
   "source": [
    "X = df.drop(columns = ['churn'])\n",
    "y = df['churn']"
   ]
  },
  {
   "cell_type": "code",
   "execution_count": null,
   "metadata": {},
   "outputs": [],
   "source": [
    "#разделяем модель на обучающую и валидационную выборки\n",
    "X_train, X_test, y_train, y_test = train_test_split(X, y, test_size=0.2) #ваш код здесь"
   ]
  },
  {
   "cell_type": "code",
   "execution_count": null,
   "metadata": {},
   "outputs": [],
   "source": [
    "# X_train, X_test, y_train, y_test = train_test_split(X, y,  test_size = m, random_state = n )"
   ]
  },
  {
   "cell_type": "code",
   "execution_count": null,
   "metadata": {},
   "outputs": [],
   "source": [
    "model = LogisticRegression()"
   ]
  },
  {
   "cell_type": "code",
   "execution_count": null,
   "metadata": {},
   "outputs": [],
   "source": [
    "model.fit(X_train, y_train)"
   ]
  },
  {
   "cell_type": "code",
   "execution_count": null,
   "metadata": {},
   "outputs": [],
   "source": [
    "predictions = model.predict(X_test)\n",
    "probabilities =  model.predict_proba(X_test)[:,1]"
   ]
  },
  {
   "cell_type": "code",
   "execution_count": null,
   "metadata": {},
   "outputs": [],
   "source": [
    "print('Accuracy | Нет баланса классов: {:.2f}'.format(accuracy_score(y_test, predictions)))\n",
    "print('Precision: {:.2f}'.format(precision_score(y_test, predictions)))\n",
    "print('Recall: {:.2f}'.format(recall_score(y_test, predictions)))\n",
    "print('F1: {:.2f}'.format(f1_score(y_test, predictions)))"
   ]
  },
  {
   "cell_type": "markdown",
   "metadata": {},
   "source": [
    "# Случайный лес"
   ]
  },
  {
   "cell_type": "code",
   "execution_count": null,
   "metadata": {},
   "outputs": [],
   "source": [
    "scaler = StandardScaler()\n",
    "scaler.fit(X_train)\n",
    "X_train_st = scaler.transform(X_train)\n",
    "X_test_st = scaler.transform(X_test)\n",
    "\n",
    "rf_model = RandomForestClassifier(n_estimators = 100, random_state = 0) \n",
    "rf_model.fit(X_train_st, y_train)\n",
    "rf_predictions = rf_model.predict(X_test_st) \n",
    "rf_probabilities = rf_model.predict_proba(X_test_st)[:,1]"
   ]
  },
  {
   "cell_type": "code",
   "execution_count": null,
   "metadata": {},
   "outputs": [],
   "source": [
    "print('Accuracy | Нет баланса классов: {:.2f}'.format(accuracy_score(y_test, rf_predictions)))\n",
    "print('Precision: {:.2f}'.format(precision_score(y_test, rf_predictions)))\n",
    "print('Recall: {:.2f}'.format(recall_score(y_test, rf_predictions)))\n",
    "print('F1: {:.2f}'.format(f1_score(y_test, rf_predictions)))"
   ]
  },
  {
   "cell_type": "markdown",
   "metadata": {},
   "source": [
    "в Случайном лесе регрессия выглядит лучше."
   ]
  },
  {
   "cell_type": "markdown",
   "metadata": {},
   "source": [
    "#  4. Сделаю кластеризацию пользователей"
   ]
  },
  {
   "cell_type": "code",
   "execution_count": null,
   "metadata": {},
   "outputs": [],
   "source": [
    "df_sс = df.drop(['churn'], axis=1)\n",
    "df_columns_list = df_sс.columns\n",
    "df_sс = StandardScaler().fit_transform(df_sс)\n",
    "df_sс = pd.DataFrame(df_sс, columns = df_columns_list).astype('float64')"
   ]
  },
  {
   "cell_type": "code",
   "execution_count": null,
   "metadata": {},
   "outputs": [],
   "source": [
    "# матрица расстояния\n",
    "linked = linkage(df_sс, method = 'ward')"
   ]
  },
  {
   "cell_type": "code",
   "execution_count": null,
   "metadata": {},
   "outputs": [],
   "source": [
    "plt.figure(figsize=(16, 9))  \n",
    "dendrogram(linked, orientation = 'top')\n",
    "plt.title('Кластеризация пользователей')\n",
    "plt.show()"
   ]
  },
  {
   "cell_type": "code",
   "execution_count": null,
   "metadata": {},
   "outputs": [],
   "source": [
    "# Обучу модель кластеризации на основании алгоритма K-Means, число кластеров принять 5\n",
    "km = KMeans(n_clusters=5, random_state=0)\n",
    "labels = km.fit_predict(df_sс)\n",
    "df['cluster'] = labels"
   ]
  },
  {
   "cell_type": "code",
   "execution_count": null,
   "metadata": {},
   "outputs": [],
   "source": [
    "df.cluster.value_counts()"
   ]
  },
  {
   "cell_type": "code",
   "execution_count": null,
   "metadata": {},
   "outputs": [],
   "source": [
    "# посчитаю долю оттока\n",
    "df.groupby('cluster').mean().T"
   ]
  },
  {
   "cell_type": "markdown",
   "metadata": {},
   "source": [
    "В среднем слабее оттекают кластеры 0 и 2.\n",
    "Живо оттекают из номера 3, одинаково из 1 и 4.\n"
   ]
  },
  {
   "cell_type": "code",
   "execution_count": null,
   "metadata": {},
   "outputs": [],
   "source": [
    "# Построю распределения признаков для кластеров\n",
    "for column in ['gender', 'near_location', 'partner', 'promo_friends', 'contract_period', 'phone', 'group_visits', 'age','avg_additional_charges_total','month_to_end_contract','lifetime', 'avg_class_frequency_total', 'avg_class_frequency_current_month']:\n",
    "    plt.figure(figsize=(5, 5))\n",
    "    sns.countplot(x = df[column], hue='cluster', data=df)\n",
    "    plt.title(column)\n",
    "    plt.show()"
   ]
  },
  {
   "cell_type": "markdown",
   "metadata": {},
   "source": [
    "'gender', 'near_location', 'partner', 'promo_friends', 'contract_period', 'phone', 'group_visits', 'age','avg_additional_charges_total','month_to_end_contract','lifetime', 'avg_class_frequency_total', 'avg_class_frequency_current_month'"
   ]
  },
  {
   "cell_type": "code",
   "execution_count": null,
   "metadata": {},
   "outputs": [],
   "source": [
    "for column in ['gender', 'near_location', 'partner', 'promo_friends', 'contract_period', 'phone', 'group_visits', 'age','avg_additional_charges_total','month_to_end_contract','lifetime', 'avg_class_frequency_total', 'avg_class_frequency_current_month']:\n",
    "    plt.figure(figsize=(5, 3))\n",
    "    sns.boxplot(x ='cluster',y = column, data = df)\n",
    "    plt.show()"
   ]
  },
  {
   "cell_type": "markdown",
   "metadata": {},
   "source": [
    "# 5. Вывод"
   ]
  },
  {
   "cell_type": "markdown",
   "metadata": {},
   "source": [
    "Признаки \"хороших кластеров\":\n",
    "* возрастом — он больше\n",
    "* 2 кластер выделяется длительностью абонемента\n",
    "* оба кластера выделяются временем с момента первого обращения — ходят давно\n",
    "* большими расходами на доп. услуги\n",
    "* средняя частота посещений в неделю за предыдущий месяц у них тоже выже"
   ]
  },
  {
   "cell_type": "markdown",
   "metadata": {},
   "source": [
    "* Для закупки трафика и привличения пользователей использовать лук-элайк аудитории из \"хороших кластеров\".\n",
    "* Поддерживать и мотивировать \"хорошие кластеры\".\n",
    "* Глубже сегментировать оттекающих, к каждому сегменту тестировать индивидуальные предложения.\n",
    "* Выстроить предиктивную систему аналитики и действовать не после оттока, а до него."
   ]
  }
 ],
 "metadata": {
  "ExecuteTimeLog": [
   {
    "duration": 4,
    "start_time": "2021-09-16T12:08:03.328Z"
   },
   {
    "duration": 1684,
    "start_time": "2021-09-16T12:12:06.405Z"
   },
   {
    "duration": 5,
    "start_time": "2021-09-16T12:12:09.764Z"
   },
   {
    "duration": 54,
    "start_time": "2021-09-16T12:13:08.828Z"
   },
   {
    "duration": 5,
    "start_time": "2021-09-16T12:14:47.393Z"
   },
   {
    "duration": 69,
    "start_time": "2021-09-16T12:15:55.085Z"
   },
   {
    "duration": 60,
    "start_time": "2021-09-16T12:18:17.739Z"
   },
   {
    "duration": 18,
    "start_time": "2021-09-16T12:21:07.409Z"
   },
   {
    "duration": 10,
    "start_time": "2021-09-16T12:21:25.180Z"
   },
   {
    "duration": 6,
    "start_time": "2021-09-16T12:22:02.863Z"
   },
   {
    "duration": 418,
    "start_time": "2021-09-16T12:23:51.688Z"
   },
   {
    "duration": 268,
    "start_time": "2021-09-16T12:23:58.085Z"
   },
   {
    "duration": 3,
    "start_time": "2021-09-16T12:24:29.777Z"
   },
   {
    "duration": 264,
    "start_time": "2021-09-16T12:24:35.459Z"
   },
   {
    "duration": 320,
    "start_time": "2021-09-16T12:24:50.948Z"
   },
   {
    "duration": 279,
    "start_time": "2021-09-16T12:25:06.290Z"
   },
   {
    "duration": 1536,
    "start_time": "2021-09-16T12:25:15.368Z"
   },
   {
    "duration": 58,
    "start_time": "2021-09-16T12:25:16.907Z"
   },
   {
    "duration": 21,
    "start_time": "2021-09-16T12:25:16.968Z"
   },
   {
    "duration": 12,
    "start_time": "2021-09-16T12:25:16.991Z"
   },
   {
    "duration": 5,
    "start_time": "2021-09-16T12:25:17.007Z"
   },
   {
    "duration": 465,
    "start_time": "2021-09-16T12:25:17.014Z"
   },
   {
    "duration": -554,
    "start_time": "2021-09-16T12:25:18.036Z"
   },
   {
    "duration": 4,
    "start_time": "2021-09-16T12:25:32.378Z"
   },
   {
    "duration": 6,
    "start_time": "2021-09-16T12:30:22.548Z"
   },
   {
    "duration": 30,
    "start_time": "2021-09-16T12:31:30.868Z"
   },
   {
    "duration": 11,
    "start_time": "2021-09-16T12:31:42.488Z"
   },
   {
    "duration": 15,
    "start_time": "2021-09-16T12:32:35.832Z"
   },
   {
    "duration": 68,
    "start_time": "2021-09-16T12:32:53.423Z"
   },
   {
    "duration": 71,
    "start_time": "2021-09-16T12:36:30.592Z"
   },
   {
    "duration": 8,
    "start_time": "2021-09-16T12:38:37.895Z"
   },
   {
    "duration": 1356,
    "start_time": "2021-09-16T13:12:17.252Z"
   },
   {
    "duration": 35,
    "start_time": "2021-09-16T13:13:00.124Z"
   },
   {
    "duration": 5328,
    "start_time": "2021-09-16T13:16:54.463Z"
   },
   {
    "duration": 2165,
    "start_time": "2021-09-16T13:26:00.170Z"
   },
   {
    "duration": 439,
    "start_time": "2021-09-17T07:41:33.337Z"
   },
   {
    "duration": 1593,
    "start_time": "2021-09-17T07:41:44.068Z"
   },
   {
    "duration": 55,
    "start_time": "2021-09-17T07:41:45.664Z"
   },
   {
    "duration": 22,
    "start_time": "2021-09-17T07:41:45.723Z"
   },
   {
    "duration": 42,
    "start_time": "2021-09-17T07:41:45.748Z"
   },
   {
    "duration": 9,
    "start_time": "2021-09-17T07:41:45.793Z"
   },
   {
    "duration": 11,
    "start_time": "2021-09-17T07:41:45.805Z"
   },
   {
    "duration": 27,
    "start_time": "2021-09-17T07:41:45.819Z"
   },
   {
    "duration": 38,
    "start_time": "2021-09-17T07:41:45.849Z"
   },
   {
    "duration": 13,
    "start_time": "2021-09-17T07:41:45.889Z"
   },
   {
    "duration": 4,
    "start_time": "2021-09-17T07:41:45.905Z"
   },
   {
    "duration": 111,
    "start_time": "2021-09-17T07:41:45.911Z"
   },
   {
    "duration": 23,
    "start_time": "2021-09-17T07:41:46.025Z"
   },
   {
    "duration": 5013,
    "start_time": "2021-09-17T07:41:46.051Z"
   },
   {
    "duration": 1871,
    "start_time": "2021-09-17T07:41:51.067Z"
   },
   {
    "duration": 5,
    "start_time": "2021-09-17T07:41:52.941Z"
   },
   {
    "duration": 4,
    "start_time": "2021-09-17T07:44:49.943Z"
   },
   {
    "duration": 506,
    "start_time": "2021-09-17T07:45:11.054Z"
   },
   {
    "duration": 359,
    "start_time": "2021-09-17T07:45:34.709Z"
   },
   {
    "duration": 5,
    "start_time": "2021-09-17T07:45:43.089Z"
   },
   {
    "duration": 7,
    "start_time": "2021-09-17T07:45:43.910Z"
   },
   {
    "duration": 4,
    "start_time": "2021-09-17T07:45:45.183Z"
   },
   {
    "duration": 54,
    "start_time": "2021-09-17T07:45:45.769Z"
   },
   {
    "duration": 17,
    "start_time": "2021-09-17T07:45:47.967Z"
   },
   {
    "duration": 14,
    "start_time": "2021-09-17T07:46:36.717Z"
   },
   {
    "duration": 507,
    "start_time": "2021-09-17T07:47:32.138Z"
   },
   {
    "duration": 14,
    "start_time": "2021-09-17T07:47:41.963Z"
   },
   {
    "duration": 11,
    "start_time": "2021-09-17T08:02:12.210Z"
   },
   {
    "duration": 796,
    "start_time": "2021-09-17T08:02:12.841Z"
   },
   {
    "duration": 813,
    "start_time": "2021-09-17T08:04:43.082Z"
   },
   {
    "duration": 1602,
    "start_time": "2021-09-17T08:05:26.758Z"
   },
   {
    "duration": 51,
    "start_time": "2021-09-17T08:05:28.363Z"
   },
   {
    "duration": 20,
    "start_time": "2021-09-17T08:05:28.417Z"
   },
   {
    "duration": 16,
    "start_time": "2021-09-17T08:05:28.440Z"
   },
   {
    "duration": 8,
    "start_time": "2021-09-17T08:05:28.482Z"
   },
   {
    "duration": 14,
    "start_time": "2021-09-17T08:05:28.492Z"
   },
   {
    "duration": 9,
    "start_time": "2021-09-17T08:05:28.508Z"
   },
   {
    "duration": 8,
    "start_time": "2021-09-17T08:05:28.521Z"
   },
   {
    "duration": 52,
    "start_time": "2021-09-17T08:05:28.532Z"
   },
   {
    "duration": 5,
    "start_time": "2021-09-17T08:05:28.587Z"
   },
   {
    "duration": 96,
    "start_time": "2021-09-17T08:05:28.595Z"
   },
   {
    "duration": 25,
    "start_time": "2021-09-17T08:05:28.694Z"
   },
   {
    "duration": 5207,
    "start_time": "2021-09-17T08:05:28.721Z"
   },
   {
    "duration": 1885,
    "start_time": "2021-09-17T08:05:33.930Z"
   },
   {
    "duration": 5,
    "start_time": "2021-09-17T08:05:35.817Z"
   },
   {
    "duration": 25,
    "start_time": "2021-09-17T08:05:35.824Z"
   },
   {
    "duration": 12,
    "start_time": "2021-09-17T08:05:35.852Z"
   },
   {
    "duration": 72,
    "start_time": "2021-09-17T08:05:35.867Z"
   },
   {
    "duration": 46,
    "start_time": "2021-09-17T08:05:35.942Z"
   },
   {
    "duration": 103,
    "start_time": "2021-09-17T08:05:36.084Z"
   },
   {
    "duration": 550,
    "start_time": "2021-09-17T08:05:36.190Z"
   },
   {
    "duration": 14,
    "start_time": "2021-09-17T08:05:36.742Z"
   },
   {
    "duration": 31,
    "start_time": "2021-09-17T08:05:36.760Z"
   },
   {
    "duration": 812,
    "start_time": "2021-09-17T08:05:36.794Z"
   },
   {
    "duration": 1572,
    "start_time": "2021-09-17T08:07:35.995Z"
   },
   {
    "duration": 51,
    "start_time": "2021-09-17T08:07:37.570Z"
   },
   {
    "duration": 21,
    "start_time": "2021-09-17T08:07:37.624Z"
   },
   {
    "duration": 38,
    "start_time": "2021-09-17T08:07:37.649Z"
   },
   {
    "duration": 7,
    "start_time": "2021-09-17T08:07:37.690Z"
   },
   {
    "duration": 6,
    "start_time": "2021-09-17T08:07:37.700Z"
   },
   {
    "duration": 14,
    "start_time": "2021-09-17T08:07:37.709Z"
   },
   {
    "duration": 8,
    "start_time": "2021-09-17T08:07:37.727Z"
   },
   {
    "duration": 68,
    "start_time": "2021-09-17T08:07:37.738Z"
   },
   {
    "duration": 6,
    "start_time": "2021-09-17T08:07:37.809Z"
   },
   {
    "duration": 136,
    "start_time": "2021-09-17T08:07:37.818Z"
   },
   {
    "duration": 44,
    "start_time": "2021-09-17T08:07:37.957Z"
   },
   {
    "duration": 8377,
    "start_time": "2021-09-17T08:07:38.005Z"
   },
   {
    "duration": 2991,
    "start_time": "2021-09-17T08:07:46.385Z"
   },
   {
    "duration": 6,
    "start_time": "2021-09-17T08:07:49.384Z"
   },
   {
    "duration": 17,
    "start_time": "2021-09-17T08:07:49.394Z"
   },
   {
    "duration": 9,
    "start_time": "2021-09-17T08:07:49.414Z"
   },
   {
    "duration": 99,
    "start_time": "2021-09-17T08:07:49.425Z"
   },
   {
    "duration": 163,
    "start_time": "2021-09-17T08:07:49.527Z"
   },
   {
    "duration": 99,
    "start_time": "2021-09-17T08:07:49.693Z"
   },
   {
    "duration": 583,
    "start_time": "2021-09-17T08:07:49.795Z"
   },
   {
    "duration": 15,
    "start_time": "2021-09-17T08:07:50.383Z"
   },
   {
    "duration": 12,
    "start_time": "2021-09-17T08:07:50.403Z"
   },
   {
    "duration": 820,
    "start_time": "2021-09-17T08:07:50.419Z"
   },
   {
    "duration": 998,
    "start_time": "2021-09-17T08:11:01.799Z"
   },
   {
    "duration": 9,
    "start_time": "2021-09-17T08:11:02.883Z"
   },
   {
    "duration": 31,
    "start_time": "2021-09-17T08:11:02.894Z"
   },
   {
    "duration": 140546,
    "start_time": "2021-09-17T08:11:02.928Z"
   },
   {
    "duration": 1582,
    "start_time": "2021-09-17T08:13:24.946Z"
   },
   {
    "duration": 545281,
    "start_time": "2021-09-17T08:23:41.962Z"
   },
   {
    "duration": 114,
    "start_time": "2021-09-17T08:32:47.246Z"
   },
   {
    "duration": 1633,
    "start_time": "2021-09-18T07:42:37.963Z"
   },
   {
    "duration": 54,
    "start_time": "2021-09-18T07:42:39.599Z"
   },
   {
    "duration": 29,
    "start_time": "2021-09-18T07:42:39.657Z"
   },
   {
    "duration": 13,
    "start_time": "2021-09-18T07:42:39.690Z"
   },
   {
    "duration": 7,
    "start_time": "2021-09-18T07:42:39.706Z"
   },
   {
    "duration": 51,
    "start_time": "2021-09-18T07:42:39.716Z"
   },
   {
    "duration": 8,
    "start_time": "2021-09-18T07:42:39.770Z"
   },
   {
    "duration": 8,
    "start_time": "2021-09-18T07:42:39.782Z"
   },
   {
    "duration": 12,
    "start_time": "2021-09-18T07:42:39.793Z"
   },
   {
    "duration": 5,
    "start_time": "2021-09-18T07:42:39.808Z"
   },
   {
    "duration": 112,
    "start_time": "2021-09-18T07:42:39.815Z"
   },
   {
    "duration": 23,
    "start_time": "2021-09-18T07:42:39.930Z"
   },
   {
    "duration": 5608,
    "start_time": "2021-09-18T07:42:39.967Z"
   },
   {
    "duration": 1937,
    "start_time": "2021-09-18T07:42:45.577Z"
   },
   {
    "duration": 5,
    "start_time": "2021-09-18T07:42:47.516Z"
   },
   {
    "duration": 20,
    "start_time": "2021-09-18T07:42:47.524Z"
   },
   {
    "duration": 21,
    "start_time": "2021-09-18T07:42:47.546Z"
   },
   {
    "duration": 61,
    "start_time": "2021-09-18T07:42:47.570Z"
   },
   {
    "duration": 134,
    "start_time": "2021-09-18T07:42:47.634Z"
   },
   {
    "duration": 98,
    "start_time": "2021-09-18T07:42:47.772Z"
   },
   {
    "duration": 614,
    "start_time": "2021-09-18T07:42:47.874Z"
   },
   {
    "duration": 15,
    "start_time": "2021-09-18T07:42:48.490Z"
   },
   {
    "duration": 11,
    "start_time": "2021-09-18T07:42:48.509Z"
   },
   {
    "duration": 900,
    "start_time": "2021-09-18T07:42:48.523Z"
   },
   {
    "duration": 143570,
    "start_time": "2021-09-18T07:42:49.425Z"
   },
   {
    "duration": 1875,
    "start_time": "2021-09-18T07:45:12.998Z"
   },
   {
    "duration": 8,
    "start_time": "2021-09-18T07:45:14.875Z"
   },
   {
    "duration": 23,
    "start_time": "2021-09-18T07:45:14.885Z"
   },
   {
    "duration": 289,
    "start_time": "2021-09-18T19:12:55.954Z"
   },
   {
    "duration": 1208,
    "start_time": "2021-09-18T19:13:04.496Z"
   },
   {
    "duration": 40,
    "start_time": "2021-09-18T19:13:05.706Z"
   },
   {
    "duration": 17,
    "start_time": "2021-09-18T19:13:05.749Z"
   },
   {
    "duration": 9,
    "start_time": "2021-09-18T19:13:05.768Z"
   },
   {
    "duration": 5,
    "start_time": "2021-09-18T19:13:05.779Z"
   },
   {
    "duration": 11,
    "start_time": "2021-09-18T19:13:05.787Z"
   },
   {
    "duration": 7,
    "start_time": "2021-09-18T19:13:05.801Z"
   },
   {
    "duration": 8,
    "start_time": "2021-09-18T19:13:05.810Z"
   },
   {
    "duration": 34,
    "start_time": "2021-09-18T19:13:05.820Z"
   },
   {
    "duration": 4,
    "start_time": "2021-09-18T19:13:05.856Z"
   },
   {
    "duration": 53,
    "start_time": "2021-09-18T19:13:05.862Z"
   },
   {
    "duration": 32,
    "start_time": "2021-09-18T19:13:05.917Z"
   },
   {
    "duration": 2863,
    "start_time": "2021-09-18T19:13:05.951Z"
   },
   {
    "duration": 842,
    "start_time": "2021-09-18T19:13:08.816Z"
   },
   {
    "duration": 1077,
    "start_time": "2021-09-18T19:13:09.659Z"
   },
   {
    "duration": 12,
    "start_time": "2021-09-18T19:13:10.738Z"
   },
   {
    "duration": 8,
    "start_time": "2021-09-18T19:13:10.751Z"
   },
   {
    "duration": 2,
    "start_time": "2021-09-18T19:13:10.761Z"
   },
   {
    "duration": 28,
    "start_time": "2021-09-18T19:13:10.765Z"
   },
   {
    "duration": 57,
    "start_time": "2021-09-18T19:13:10.795Z"
   },
   {
    "duration": 99,
    "start_time": "2021-09-18T19:13:10.854Z"
   },
   {
    "duration": 485,
    "start_time": "2021-09-18T19:13:10.957Z"
   },
   {
    "duration": 12,
    "start_time": "2021-09-18T19:13:11.444Z"
   },
   {
    "duration": 10,
    "start_time": "2021-09-18T19:13:11.458Z"
   },
   {
    "duration": 913,
    "start_time": "2021-09-18T19:13:11.470Z"
   },
   {
    "duration": 76943,
    "start_time": "2021-09-18T19:13:12.385Z"
   },
   {
    "duration": 1220,
    "start_time": "2021-09-18T19:14:29.330Z"
   },
   {
    "duration": 17,
    "start_time": "2021-09-18T19:14:30.552Z"
   },
   {
    "duration": 100,
    "start_time": "2021-09-18T19:14:30.571Z"
   },
   {
    "duration": 1167,
    "start_time": "2021-09-18T19:19:33.862Z"
   },
   {
    "duration": 40,
    "start_time": "2021-09-18T19:19:35.031Z"
   },
   {
    "duration": 12,
    "start_time": "2021-09-18T19:19:35.074Z"
   },
   {
    "duration": 10,
    "start_time": "2021-09-18T19:19:35.088Z"
   },
   {
    "duration": 4,
    "start_time": "2021-09-18T19:19:35.100Z"
   },
   {
    "duration": 5,
    "start_time": "2021-09-18T19:19:35.106Z"
   },
   {
    "duration": 6,
    "start_time": "2021-09-18T19:19:35.112Z"
   },
   {
    "duration": 5,
    "start_time": "2021-09-18T19:19:35.121Z"
   },
   {
    "duration": 8,
    "start_time": "2021-09-18T19:19:35.148Z"
   },
   {
    "duration": 4,
    "start_time": "2021-09-18T19:19:35.158Z"
   },
   {
    "duration": 48,
    "start_time": "2021-09-18T19:19:35.164Z"
   },
   {
    "duration": 14,
    "start_time": "2021-09-18T19:19:35.214Z"
   },
   {
    "duration": 2993,
    "start_time": "2021-09-18T19:19:35.230Z"
   },
   {
    "duration": 220383,
    "start_time": "2021-09-18T19:19:38.225Z"
   },
   {
    "duration": 2277,
    "start_time": "2021-09-18T19:23:18.609Z"
   },
   {
    "duration": 4,
    "start_time": "2021-09-18T19:23:20.888Z"
   },
   {
    "duration": 9,
    "start_time": "2021-09-18T19:23:20.893Z"
   },
   {
    "duration": 7,
    "start_time": "2021-09-18T19:23:20.903Z"
   },
   {
    "duration": 55,
    "start_time": "2021-09-18T19:23:20.911Z"
   },
   {
    "duration": 10,
    "start_time": "2021-09-18T19:23:20.967Z"
   },
   {
    "duration": 80,
    "start_time": "2021-09-18T19:23:20.979Z"
   },
   {
    "duration": 435,
    "start_time": "2021-09-18T19:23:21.061Z"
   },
   {
    "duration": 9,
    "start_time": "2021-09-18T19:23:21.499Z"
   },
   {
    "duration": 9,
    "start_time": "2021-09-18T19:23:21.510Z"
   },
   {
    "duration": 585,
    "start_time": "2021-09-18T19:23:21.521Z"
   },
   {
    "duration": 80542,
    "start_time": "2021-09-18T19:23:22.107Z"
   },
   {
    "duration": 1498,
    "start_time": "2021-09-18T19:24:42.651Z"
   },
   {
    "duration": 6,
    "start_time": "2021-09-18T19:24:44.151Z"
   },
   {
    "duration": 16,
    "start_time": "2021-09-18T19:24:44.159Z"
   },
   {
    "duration": 1161,
    "start_time": "2021-09-18T19:24:50.472Z"
   },
   {
    "duration": 37,
    "start_time": "2021-09-18T19:24:51.635Z"
   },
   {
    "duration": 11,
    "start_time": "2021-09-18T19:24:51.674Z"
   },
   {
    "duration": 9,
    "start_time": "2021-09-18T19:24:51.686Z"
   },
   {
    "duration": 3,
    "start_time": "2021-09-18T19:24:51.697Z"
   },
   {
    "duration": 6,
    "start_time": "2021-09-18T19:24:51.701Z"
   },
   {
    "duration": 9,
    "start_time": "2021-09-18T19:24:51.708Z"
   },
   {
    "duration": 7,
    "start_time": "2021-09-18T19:24:51.719Z"
   },
   {
    "duration": 9,
    "start_time": "2021-09-18T19:24:51.750Z"
   },
   {
    "duration": 4,
    "start_time": "2021-09-18T19:24:51.761Z"
   },
   {
    "duration": 61,
    "start_time": "2021-09-18T19:24:51.767Z"
   },
   {
    "duration": 32,
    "start_time": "2021-09-18T19:24:51.830Z"
   },
   {
    "duration": 4175,
    "start_time": "2021-09-18T19:24:51.865Z"
   },
   {
    "duration": 1461,
    "start_time": "2021-09-18T19:25:51.294Z"
   },
   {
    "duration": 49,
    "start_time": "2021-09-18T19:25:52.757Z"
   },
   {
    "duration": 16,
    "start_time": "2021-09-18T19:25:52.809Z"
   },
   {
    "duration": 13,
    "start_time": "2021-09-18T19:25:52.827Z"
   },
   {
    "duration": 8,
    "start_time": "2021-09-18T19:25:52.842Z"
   },
   {
    "duration": 4,
    "start_time": "2021-09-18T19:25:52.852Z"
   },
   {
    "duration": 6,
    "start_time": "2021-09-18T19:25:52.858Z"
   },
   {
    "duration": 6,
    "start_time": "2021-09-18T19:25:52.867Z"
   },
   {
    "duration": 11,
    "start_time": "2021-09-18T19:25:52.875Z"
   },
   {
    "duration": 5,
    "start_time": "2021-09-18T19:25:52.888Z"
   },
   {
    "duration": 90,
    "start_time": "2021-09-18T19:25:52.895Z"
   },
   {
    "duration": 20,
    "start_time": "2021-09-18T19:25:52.986Z"
   },
   {
    "duration": 4322,
    "start_time": "2021-09-18T19:25:53.008Z"
   },
   {
    "duration": 1176,
    "start_time": "2021-09-18T19:30:06.511Z"
   },
   {
    "duration": 38,
    "start_time": "2021-09-18T19:30:07.689Z"
   },
   {
    "duration": 11,
    "start_time": "2021-09-18T19:30:07.731Z"
   },
   {
    "duration": 7,
    "start_time": "2021-09-18T19:30:07.749Z"
   },
   {
    "duration": 10,
    "start_time": "2021-09-18T19:30:07.758Z"
   },
   {
    "duration": 10,
    "start_time": "2021-09-18T19:30:07.769Z"
   },
   {
    "duration": 9,
    "start_time": "2021-09-18T19:30:07.781Z"
   },
   {
    "duration": 18,
    "start_time": "2021-09-18T19:30:07.791Z"
   },
   {
    "duration": 10,
    "start_time": "2021-09-18T19:30:07.811Z"
   },
   {
    "duration": 5,
    "start_time": "2021-09-18T19:30:07.822Z"
   },
   {
    "duration": 53,
    "start_time": "2021-09-18T19:30:07.829Z"
   },
   {
    "duration": 13,
    "start_time": "2021-09-18T19:30:07.884Z"
   },
   {
    "duration": 2847,
    "start_time": "2021-09-18T19:30:07.898Z"
   },
   {
    "duration": 216897,
    "start_time": "2021-09-18T19:30:10.747Z"
   },
   {
    "duration": 2970,
    "start_time": "2021-09-18T19:33:47.649Z"
   },
   {
    "duration": 4,
    "start_time": "2021-09-18T19:33:50.622Z"
   },
   {
    "duration": 21,
    "start_time": "2021-09-18T19:33:50.628Z"
   },
   {
    "duration": 8,
    "start_time": "2021-09-18T19:33:50.651Z"
   },
   {
    "duration": 377,
    "start_time": "2021-09-18T19:33:50.661Z"
   },
   {
    "duration": 2837,
    "start_time": "2021-09-18T19:33:48.204Z"
   },
   {
    "duration": 2838,
    "start_time": "2021-09-18T19:33:48.205Z"
   },
   {
    "duration": 2838,
    "start_time": "2021-09-18T19:33:48.206Z"
   },
   {
    "duration": 2837,
    "start_time": "2021-09-18T19:33:48.208Z"
   },
   {
    "duration": 2837,
    "start_time": "2021-09-18T19:33:48.209Z"
   },
   {
    "duration": 2828,
    "start_time": "2021-09-18T19:33:48.219Z"
   },
   {
    "duration": 2829,
    "start_time": "2021-09-18T19:33:48.220Z"
   },
   {
    "duration": 2829,
    "start_time": "2021-09-18T19:33:48.221Z"
   },
   {
    "duration": 2829,
    "start_time": "2021-09-18T19:33:48.222Z"
   },
   {
    "duration": 2829,
    "start_time": "2021-09-18T19:33:48.223Z"
   },
   {
    "duration": 2828,
    "start_time": "2021-09-18T19:33:48.225Z"
   },
   {
    "duration": 2828,
    "start_time": "2021-09-18T19:33:48.226Z"
   },
   {
    "duration": 257,
    "start_time": "2021-09-18T19:34:33.979Z"
   },
   {
    "duration": 3,
    "start_time": "2021-09-18T19:35:09.387Z"
   },
   {
    "duration": 267,
    "start_time": "2021-09-18T19:35:13.763Z"
   },
   {
    "duration": 233,
    "start_time": "2021-09-18T19:35:54.859Z"
   },
   {
    "duration": 2835,
    "start_time": "2021-09-18T19:35:52.259Z"
   },
   {
    "duration": 2,
    "start_time": "2021-09-18T19:36:01.505Z"
   },
   {
    "duration": 40,
    "start_time": "2021-09-18T19:36:02.037Z"
   },
   {
    "duration": 16,
    "start_time": "2021-09-18T19:36:23.040Z"
   },
   {
    "duration": 10,
    "start_time": "2021-09-18T19:36:23.942Z"
   },
   {
    "duration": 324,
    "start_time": "2021-09-18T19:36:24.984Z"
   },
   {
    "duration": 10,
    "start_time": "2021-09-18T19:36:25.508Z"
   },
   {
    "duration": 10,
    "start_time": "2021-09-18T19:36:27.693Z"
   },
   {
    "duration": 872,
    "start_time": "2021-09-18T19:36:28.103Z"
   },
   {
    "duration": 99324,
    "start_time": "2021-09-18T19:36:28.977Z"
   },
   {
    "duration": 1352,
    "start_time": "2021-09-18T19:38:08.303Z"
   },
   {
    "duration": 7,
    "start_time": "2021-09-18T19:38:09.656Z"
   },
   {
    "duration": 14,
    "start_time": "2021-09-18T19:38:09.664Z"
   },
   {
    "duration": 310850,
    "start_time": "2021-09-18T19:38:09.679Z"
   },
   {
    "duration": 3,
    "start_time": "2021-09-18T19:43:20.531Z"
   },
   {
    "duration": 2824,
    "start_time": "2021-09-18T19:43:17.967Z"
   },
   {
    "duration": 2824,
    "start_time": "2021-09-18T19:43:17.968Z"
   },
   {
    "duration": 1352,
    "start_time": "2021-09-18T19:43:50.074Z"
   },
   {
    "duration": 362,
    "start_time": "2021-09-18T19:45:04.400Z"
   },
   {
    "duration": 276,
    "start_time": "2021-09-18T19:47:04.574Z"
   },
   {
    "duration": 249,
    "start_time": "2021-09-18T19:47:24.214Z"
   },
   {
    "duration": 254,
    "start_time": "2021-09-18T19:48:17.740Z"
   },
   {
    "duration": 302,
    "start_time": "2021-09-18T19:48:24.538Z"
   },
   {
    "duration": 254,
    "start_time": "2021-09-18T19:48:32.080Z"
   },
   {
    "duration": 790,
    "start_time": "2021-09-18T19:49:43.459Z"
   },
   {
    "duration": 8,
    "start_time": "2021-09-18T19:49:47.523Z"
   },
   {
    "duration": 12,
    "start_time": "2021-09-18T19:50:08.413Z"
   },
   {
    "duration": 81,
    "start_time": "2021-09-18T20:03:10.871Z"
   },
   {
    "duration": 2610,
    "start_time": "2021-09-18T20:04:26.957Z"
   },
   {
    "duration": 1670,
    "start_time": "2021-09-18T20:04:48.409Z"
   },
   {
    "duration": 1616,
    "start_time": "2021-09-18T20:04:58.033Z"
   },
   {
    "duration": 92,
    "start_time": "2021-09-18T20:06:15.721Z"
   },
   {
    "duration": 1354,
    "start_time": "2021-09-20T06:31:45.840Z"
   },
   {
    "duration": 264,
    "start_time": "2021-09-20T06:31:47.196Z"
   },
   {
    "duration": 13,
    "start_time": "2021-09-20T06:31:47.462Z"
   },
   {
    "duration": 10,
    "start_time": "2021-09-20T06:31:47.477Z"
   },
   {
    "duration": 4,
    "start_time": "2021-09-20T06:31:47.489Z"
   },
   {
    "duration": 3,
    "start_time": "2021-09-20T06:31:47.495Z"
   },
   {
    "duration": 6,
    "start_time": "2021-09-20T06:31:47.500Z"
   },
   {
    "duration": 7,
    "start_time": "2021-09-20T06:31:47.508Z"
   },
   {
    "duration": 9,
    "start_time": "2021-09-20T06:31:47.517Z"
   },
   {
    "duration": 3,
    "start_time": "2021-09-20T06:31:47.528Z"
   },
   {
    "duration": 80,
    "start_time": "2021-09-20T06:31:47.533Z"
   },
   {
    "duration": 14,
    "start_time": "2021-09-20T06:31:47.615Z"
   },
   {
    "duration": 2990,
    "start_time": "2021-09-20T06:31:47.631Z"
   },
   {
    "duration": 224618,
    "start_time": "2021-09-20T06:31:50.623Z"
   },
   {
    "duration": 2354,
    "start_time": "2021-09-20T06:35:35.243Z"
   },
   {
    "duration": 4,
    "start_time": "2021-09-20T06:35:37.599Z"
   },
   {
    "duration": 9,
    "start_time": "2021-09-20T06:35:37.604Z"
   },
   {
    "duration": 5,
    "start_time": "2021-09-20T06:35:37.614Z"
   },
   {
    "duration": 7,
    "start_time": "2021-09-20T06:35:37.621Z"
   },
   {
    "duration": 56,
    "start_time": "2021-09-20T06:35:37.630Z"
   },
   {
    "duration": 11,
    "start_time": "2021-09-20T06:35:37.687Z"
   },
   {
    "duration": 176,
    "start_time": "2021-09-20T06:35:37.701Z"
   },
   {
    "duration": 358,
    "start_time": "2021-09-20T06:35:37.881Z"
   },
   {
    "duration": 12,
    "start_time": "2021-09-20T06:35:38.241Z"
   },
   {
    "duration": 27,
    "start_time": "2021-09-20T06:35:38.254Z"
   },
   {
    "duration": 592,
    "start_time": "2021-09-20T06:35:38.283Z"
   },
   {
    "duration": 86046,
    "start_time": "2021-09-20T06:35:38.877Z"
   },
   {
    "duration": 463,
    "start_time": "2021-09-20T06:37:04.926Z"
   },
   {
    "duration": 91,
    "start_time": "2021-09-20T06:37:05.391Z"
   },
   {
    "duration": 102,
    "start_time": "2021-09-20T06:37:05.485Z"
   },
   {
    "duration": 228400,
    "start_time": "2021-09-20T06:37:05.589Z"
   },
   {
    "duration": 2970,
    "start_time": "2021-09-20T06:40:53.991Z"
   },
   {
    "duration": 1940,
    "start_time": "2021-09-20T07:32:11.120Z"
   },
   {
    "duration": 96,
    "start_time": "2021-09-20T08:16:33.072Z"
   },
   {
    "duration": 3,
    "start_time": "2021-09-20T08:17:35.730Z"
   },
   {
    "duration": 3,
    "start_time": "2021-09-20T08:17:48.430Z"
   },
   {
    "duration": 377,
    "start_time": "2021-09-20T08:17:51.278Z"
   },
   {
    "duration": 3,
    "start_time": "2021-09-20T08:17:51.829Z"
   },
   {
    "duration": 6,
    "start_time": "2021-09-20T08:17:59.808Z"
   },
   {
    "duration": 3,
    "start_time": "2021-09-20T08:18:26.512Z"
   },
   {
    "duration": 352,
    "start_time": "2021-09-20T08:19:34.174Z"
   },
   {
    "duration": 3,
    "start_time": "2021-09-20T08:20:01.045Z"
   },
   {
    "duration": 1527,
    "start_time": "2021-09-20T08:20:41.359Z"
   },
   {
    "duration": 8,
    "start_time": "2021-09-20T08:20:50.141Z"
   },
   {
    "duration": 14,
    "start_time": "2021-09-20T08:20:53.324Z"
   },
   {
    "duration": 289,
    "start_time": "2021-09-20T08:21:51.797Z"
   },
   {
    "duration": 2487,
    "start_time": "2021-09-20T08:22:21.316Z"
   },
   {
    "duration": 275,
    "start_time": "2021-09-20T08:40:38.682Z"
   },
   {
    "duration": 6,
    "start_time": "2021-09-20T08:40:46.919Z"
   },
   {
    "duration": 1162,
    "start_time": "2021-09-20T08:41:08.217Z"
   },
   {
    "duration": 40,
    "start_time": "2021-09-20T08:41:09.381Z"
   },
   {
    "duration": 13,
    "start_time": "2021-09-20T08:41:09.424Z"
   },
   {
    "duration": 8,
    "start_time": "2021-09-20T08:41:09.439Z"
   },
   {
    "duration": 5,
    "start_time": "2021-09-20T08:41:09.449Z"
   },
   {
    "duration": 23,
    "start_time": "2021-09-20T08:41:09.456Z"
   },
   {
    "duration": 18,
    "start_time": "2021-09-20T08:41:09.481Z"
   },
   {
    "duration": 16,
    "start_time": "2021-09-20T08:41:09.502Z"
   },
   {
    "duration": 20,
    "start_time": "2021-09-20T08:41:09.521Z"
   },
   {
    "duration": 10,
    "start_time": "2021-09-20T08:41:09.543Z"
   },
   {
    "duration": 62,
    "start_time": "2021-09-20T08:41:09.555Z"
   },
   {
    "duration": 15,
    "start_time": "2021-09-20T08:41:09.619Z"
   },
   {
    "duration": 3124,
    "start_time": "2021-09-20T08:41:09.635Z"
   },
   {
    "duration": 2053,
    "start_time": "2021-09-20T08:41:12.761Z"
   },
   {
    "duration": 1570,
    "start_time": "2021-09-21T08:04:20.206Z"
   },
   {
    "duration": 53,
    "start_time": "2021-09-21T08:04:21.779Z"
   },
   {
    "duration": 20,
    "start_time": "2021-09-21T08:04:21.839Z"
   },
   {
    "duration": 32,
    "start_time": "2021-09-21T08:04:21.862Z"
   },
   {
    "duration": 10,
    "start_time": "2021-09-21T08:04:21.897Z"
   },
   {
    "duration": 16,
    "start_time": "2021-09-21T08:04:21.910Z"
   },
   {
    "duration": 18,
    "start_time": "2021-09-21T08:04:21.929Z"
   },
   {
    "duration": 17,
    "start_time": "2021-09-21T08:04:21.950Z"
   },
   {
    "duration": 40,
    "start_time": "2021-09-21T08:04:21.969Z"
   },
   {
    "duration": 5,
    "start_time": "2021-09-21T08:04:22.012Z"
   },
   {
    "duration": 91,
    "start_time": "2021-09-21T08:04:22.019Z"
   },
   {
    "duration": 24,
    "start_time": "2021-09-21T08:04:22.113Z"
   },
   {
    "duration": 5230,
    "start_time": "2021-09-21T08:04:22.139Z"
   },
   {
    "duration": 3518,
    "start_time": "2021-09-21T08:04:27.371Z"
   },
   {
    "duration": 193673,
    "start_time": "2021-09-21T08:04:30.892Z"
   },
   {
    "duration": 17,
    "start_time": "2021-09-21T08:07:44.552Z"
   },
   {
    "duration": 16,
    "start_time": "2021-09-21T08:07:44.554Z"
   },
   {
    "duration": 16,
    "start_time": "2021-09-21T08:07:44.556Z"
   },
   {
    "duration": 15,
    "start_time": "2021-09-21T08:07:44.558Z"
   },
   {
    "duration": 15,
    "start_time": "2021-09-21T08:07:44.560Z"
   },
   {
    "duration": -3,
    "start_time": "2021-09-21T08:07:44.579Z"
   },
   {
    "duration": -4,
    "start_time": "2021-09-21T08:07:44.582Z"
   },
   {
    "duration": -6,
    "start_time": "2021-09-21T08:07:44.585Z"
   },
   {
    "duration": -10,
    "start_time": "2021-09-21T08:07:44.591Z"
   },
   {
    "duration": -11,
    "start_time": "2021-09-21T08:07:44.594Z"
   },
   {
    "duration": -12,
    "start_time": "2021-09-21T08:07:44.597Z"
   },
   {
    "duration": -11,
    "start_time": "2021-09-21T08:07:44.599Z"
   },
   {
    "duration": -10,
    "start_time": "2021-09-21T08:07:44.601Z"
   },
   {
    "duration": -11,
    "start_time": "2021-09-21T08:07:44.604Z"
   },
   {
    "duration": -11,
    "start_time": "2021-09-21T08:07:44.606Z"
   },
   {
    "duration": -12,
    "start_time": "2021-09-21T08:07:44.609Z"
   },
   {
    "duration": -12,
    "start_time": "2021-09-21T08:07:44.610Z"
   },
   {
    "duration": -13,
    "start_time": "2021-09-21T08:07:44.613Z"
   },
   {
    "duration": 1973,
    "start_time": "2021-09-21T08:07:47.799Z"
   },
   {
    "duration": 7,
    "start_time": "2021-09-21T08:07:49.982Z"
   },
   {
    "duration": 7,
    "start_time": "2021-09-21T08:07:50.426Z"
   },
   {
    "duration": 7,
    "start_time": "2021-09-21T08:07:51.181Z"
   },
   {
    "duration": 4,
    "start_time": "2021-09-21T08:07:51.633Z"
   },
   {
    "duration": 52,
    "start_time": "2021-09-21T08:07:51.831Z"
   },
   {
    "duration": 10,
    "start_time": "2021-09-21T08:07:52.512Z"
   },
   {
    "duration": 15,
    "start_time": "2021-09-21T08:07:52.741Z"
   },
   {
    "duration": 517,
    "start_time": "2021-09-21T08:07:53.135Z"
   },
   {
    "duration": 15,
    "start_time": "2021-09-21T08:07:53.654Z"
   },
   {
    "duration": 13,
    "start_time": "2021-09-21T08:07:54.371Z"
   },
   {
    "duration": 826,
    "start_time": "2021-09-21T08:07:54.606Z"
   },
   {
    "duration": 153753,
    "start_time": "2021-09-21T08:07:55.434Z"
   },
   {
    "duration": 1411,
    "start_time": "2021-09-21T08:10:29.191Z"
   },
   {
    "duration": 84,
    "start_time": "2021-09-21T08:10:30.605Z"
   },
   {
    "duration": 51,
    "start_time": "2021-09-21T08:10:30.692Z"
   },
   {
    "duration": 1155,
    "start_time": "2021-10-05T06:42:20.706Z"
   },
   {
    "duration": 39,
    "start_time": "2021-10-05T06:42:21.863Z"
   },
   {
    "duration": 12,
    "start_time": "2021-10-05T06:42:21.907Z"
   },
   {
    "duration": 17,
    "start_time": "2021-10-05T06:42:21.921Z"
   },
   {
    "duration": 11,
    "start_time": "2021-10-05T06:42:21.939Z"
   },
   {
    "duration": 2,
    "start_time": "2021-10-05T06:42:21.951Z"
   },
   {
    "duration": 13,
    "start_time": "2021-10-05T06:42:21.955Z"
   },
   {
    "duration": 6,
    "start_time": "2021-10-05T06:42:21.970Z"
   },
   {
    "duration": 19,
    "start_time": "2021-10-05T06:42:21.978Z"
   },
   {
    "duration": 7,
    "start_time": "2021-10-05T06:42:21.999Z"
   },
   {
    "duration": 56,
    "start_time": "2021-10-05T06:42:22.007Z"
   },
   {
    "duration": 13,
    "start_time": "2021-10-05T06:42:22.064Z"
   },
   {
    "duration": 2962,
    "start_time": "2021-10-05T06:42:22.078Z"
   },
   {
    "duration": 1857,
    "start_time": "2021-10-05T06:42:25.042Z"
   },
   {
    "duration": 213372,
    "start_time": "2021-10-05T06:42:26.901Z"
   },
   {
    "duration": 2406,
    "start_time": "2021-10-05T06:46:00.275Z"
   },
   {
    "duration": 4,
    "start_time": "2021-10-05T06:46:02.683Z"
   },
   {
    "duration": 11,
    "start_time": "2021-10-05T06:46:02.688Z"
   },
   {
    "duration": 6,
    "start_time": "2021-10-05T06:46:02.700Z"
   },
   {
    "duration": 10,
    "start_time": "2021-10-05T06:46:02.708Z"
   },
   {
    "duration": 55,
    "start_time": "2021-10-05T06:46:02.719Z"
   },
   {
    "duration": 16,
    "start_time": "2021-10-05T06:46:02.777Z"
   },
   {
    "duration": 98,
    "start_time": "2021-10-05T06:46:02.852Z"
   },
   {
    "duration": 336,
    "start_time": "2021-10-05T06:46:02.953Z"
   },
   {
    "duration": 10,
    "start_time": "2021-10-05T06:46:03.291Z"
   },
   {
    "duration": 7,
    "start_time": "2021-10-05T06:46:03.303Z"
   },
   {
    "duration": 629,
    "start_time": "2021-10-05T06:46:03.312Z"
   },
   {
    "duration": 76892,
    "start_time": "2021-10-05T06:46:03.943Z"
   },
   {
    "duration": 1220,
    "start_time": "2021-10-05T06:47:20.837Z"
   },
   {
    "duration": 7,
    "start_time": "2021-10-05T06:47:22.148Z"
   },
   {
    "duration": 30,
    "start_time": "2021-10-05T06:47:22.157Z"
   },
   {
    "duration": 1124,
    "start_time": "2021-10-05T07:18:26.499Z"
   },
   {
    "duration": 38,
    "start_time": "2021-10-05T07:18:27.625Z"
   },
   {
    "duration": 11,
    "start_time": "2021-10-05T07:18:27.665Z"
   },
   {
    "duration": 10,
    "start_time": "2021-10-05T07:18:27.678Z"
   },
   {
    "duration": 7,
    "start_time": "2021-10-05T07:18:27.690Z"
   },
   {
    "duration": 5,
    "start_time": "2021-10-05T07:18:27.698Z"
   },
   {
    "duration": 15,
    "start_time": "2021-10-05T07:18:27.704Z"
   },
   {
    "duration": 9,
    "start_time": "2021-10-05T07:18:27.721Z"
   },
   {
    "duration": 18,
    "start_time": "2021-10-05T07:18:27.732Z"
   },
   {
    "duration": 3,
    "start_time": "2021-10-05T07:18:27.751Z"
   },
   {
    "duration": 54,
    "start_time": "2021-10-05T07:18:27.756Z"
   },
   {
    "duration": 14,
    "start_time": "2021-10-05T07:18:27.811Z"
   },
   {
    "duration": 2831,
    "start_time": "2021-10-05T07:18:27.826Z"
   },
   {
    "duration": 1847,
    "start_time": "2021-10-05T07:18:30.659Z"
   },
   {
    "duration": 335384,
    "start_time": "2021-10-05T07:18:32.508Z"
   },
   {
    "duration": 4695,
    "start_time": "2021-10-05T07:24:07.894Z"
   },
   {
    "duration": 4,
    "start_time": "2021-10-05T07:24:12.591Z"
   },
   {
    "duration": 62,
    "start_time": "2021-10-05T07:24:12.596Z"
   },
   {
    "duration": 7,
    "start_time": "2021-10-05T07:24:12.660Z"
   },
   {
    "duration": 4,
    "start_time": "2021-10-05T07:24:12.669Z"
   },
   {
    "duration": 97,
    "start_time": "2021-10-05T07:24:12.675Z"
   },
   {
    "duration": 178,
    "start_time": "2021-10-05T07:24:12.774Z"
   },
   {
    "duration": 192,
    "start_time": "2021-10-05T07:24:12.957Z"
   },
   {
    "duration": 697,
    "start_time": "2021-10-05T07:24:13.152Z"
   },
   {
    "duration": 11,
    "start_time": "2021-10-05T07:24:13.851Z"
   },
   {
    "duration": 10,
    "start_time": "2021-10-05T07:24:13.864Z"
   },
   {
    "duration": 1915,
    "start_time": "2021-10-05T07:24:13.876Z"
   },
   {
    "duration": 179428,
    "start_time": "2021-10-05T07:24:15.849Z"
   },
   {
    "duration": 1571,
    "start_time": "2021-10-05T07:27:15.278Z"
   },
   {
    "duration": 6,
    "start_time": "2021-10-05T07:27:16.852Z"
   },
   {
    "duration": 21,
    "start_time": "2021-10-05T07:27:16.860Z"
   },
   {
    "duration": 385061,
    "start_time": "2021-10-05T07:27:16.884Z"
   },
   {
    "duration": 2408,
    "start_time": "2021-10-05T07:33:41.949Z"
   },
   {
    "duration": 7,
    "start_time": "2021-10-05T07:33:44.368Z"
   },
   {
    "duration": 1901,
    "start_time": "2021-11-24T14:55:23.681Z"
   },
   {
    "duration": 53,
    "start_time": "2021-11-24T14:55:25.585Z"
   },
   {
    "duration": 20,
    "start_time": "2021-11-24T14:55:25.642Z"
   },
   {
    "duration": 35,
    "start_time": "2021-11-24T14:55:25.665Z"
   },
   {
    "duration": 6,
    "start_time": "2021-11-24T14:55:25.703Z"
   },
   {
    "duration": 10,
    "start_time": "2021-11-24T14:55:25.711Z"
   },
   {
    "duration": 8,
    "start_time": "2021-11-24T14:55:25.724Z"
   },
   {
    "duration": 13,
    "start_time": "2021-11-24T14:55:25.737Z"
   },
   {
    "duration": 56,
    "start_time": "2021-11-24T14:55:25.753Z"
   },
   {
    "duration": 7,
    "start_time": "2021-11-24T14:55:25.812Z"
   },
   {
    "duration": 97,
    "start_time": "2021-11-24T14:55:25.822Z"
   },
   {
    "duration": 26,
    "start_time": "2021-11-24T14:55:25.922Z"
   },
   {
    "duration": 11,
    "start_time": "2021-11-24T14:55:25.951Z"
   },
   {
    "duration": 5401,
    "start_time": "2021-11-24T14:55:25.965Z"
   },
   {
    "duration": 3517,
    "start_time": "2021-11-24T14:55:31.370Z"
   },
   {
    "duration": 1636,
    "start_time": "2021-11-24T14:58:25.314Z"
   },
   {
    "duration": 59,
    "start_time": "2021-11-24T14:58:26.953Z"
   },
   {
    "duration": 20,
    "start_time": "2021-11-24T14:58:27.016Z"
   },
   {
    "duration": 17,
    "start_time": "2021-11-24T14:58:27.039Z"
   },
   {
    "duration": 12,
    "start_time": "2021-11-24T14:58:27.059Z"
   },
   {
    "duration": 29,
    "start_time": "2021-11-24T14:58:27.073Z"
   },
   {
    "duration": 19,
    "start_time": "2021-11-24T14:58:27.105Z"
   },
   {
    "duration": 14,
    "start_time": "2021-11-24T14:58:27.128Z"
   },
   {
    "duration": 14,
    "start_time": "2021-11-24T14:58:27.146Z"
   },
   {
    "duration": 6,
    "start_time": "2021-11-24T14:58:27.163Z"
   },
   {
    "duration": 100,
    "start_time": "2021-11-24T14:58:27.172Z"
   },
   {
    "duration": 41,
    "start_time": "2021-11-24T14:58:27.275Z"
   },
   {
    "duration": 10,
    "start_time": "2021-11-24T14:58:27.319Z"
   },
   {
    "duration": 5142,
    "start_time": "2021-11-24T14:58:27.332Z"
   },
   {
    "duration": 3381,
    "start_time": "2021-11-24T14:58:32.476Z"
   }
  ],
  "kernelspec": {
   "display_name": "Python 3 (ipykernel)",
   "language": "python",
   "name": "python3"
  },
  "language_info": {
   "codemirror_mode": {
    "name": "ipython",
    "version": 3
   },
   "file_extension": ".py",
   "mimetype": "text/x-python",
   "name": "python",
   "nbconvert_exporter": "python",
   "pygments_lexer": "ipython3",
   "version": "3.9.7"
  },
  "toc": {
   "base_numbering": 1,
   "nav_menu": {},
   "number_sections": true,
   "sideBar": true,
   "skip_h1_title": true,
   "title_cell": "Table of Contents",
   "title_sidebar": "Contents",
   "toc_cell": false,
   "toc_position": {},
   "toc_section_display": true,
   "toc_window_display": false
  }
 },
 "nbformat": 4,
 "nbformat_minor": 2
}
